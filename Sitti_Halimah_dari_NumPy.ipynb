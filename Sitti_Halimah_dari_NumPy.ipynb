{
  "nbformat": 4,
  "nbformat_minor": 0,
  "metadata": {
    "kernelspec": {
      "display_name": "Python 3",
      "language": "python",
      "name": "python3"
    },
    "language_info": {
      "codemirror_mode": {
        "name": "ipython",
        "version": 3
      },
      "file_extension": ".py",
      "mimetype": "text/x-python",
      "name": "python",
      "nbconvert_exporter": "python",
      "pygments_lexer": "ipython3",
      "version": "3.7.4"
    },
    "colab": {
      "name": "Sitti Halimah dari NumPy.ipynb",
      "provenance": [],
      "collapsed_sections": [
        "8BMfhvv-sXfM"
      ],
      "include_colab_link": true
    }
  },
  "cells": [
    {
      "cell_type": "markdown",
      "metadata": {
        "id": "view-in-github",
        "colab_type": "text"
      },
      "source": [
        "<a href=\"https://colab.research.google.com/github/halimahsitti/StudiIndependen/blob/main/Sitti_Halimah_dari_NumPy.ipynb\" target=\"_parent\"><img src=\"https://colab.research.google.com/assets/colab-badge.svg\" alt=\"Open In Colab\"/></a>"
      ]
    },
    {
      "cell_type": "markdown",
      "metadata": {
        "id": "OsrL4DDnsXet"
      },
      "source": [
        "# NumPy\n",
        "The NumPy library is the core library for scientific computing in Python. It provides a high-performance multidimensional array object, and tools for working with these arrays. "
      ]
    },
    {
      "cell_type": "markdown",
      "metadata": {
        "id": "o5uuDGr3sXe0"
      },
      "source": [
        "# Creating Arrays"
      ]
    },
    {
      "cell_type": "code",
      "metadata": {
        "id": "CpCv_BY1sXe2"
      },
      "source": [
        "# Import Library NumPy\n",
        "import numpy as np\n",
        "\n",
        "# Contoh Membuat Array\n",
        "a = np.array([1,2,3])\n",
        "b = np.array([(1.5,2,3), (4,5,6)], dtype = float)\n",
        "c = np.array([[(1.5,2,3), (4,5,6)], [(3,2,1), (4,5,6)]], dtype = float)"
      ],
      "execution_count": 1,
      "outputs": []
    },
    {
      "cell_type": "code",
      "metadata": {
        "id": "ltSlc4F6sXe4",
        "outputId": "fce3f16d-5512-4e76-c2e6-a1469cd0572f",
        "colab": {
          "base_uri": "https://localhost:8080/"
        }
      },
      "source": [
        "# Menampilkan Array a \n",
        "a"
      ],
      "execution_count": 2,
      "outputs": [
        {
          "output_type": "execute_result",
          "data": {
            "text/plain": [
              "array([1, 2, 3])"
            ]
          },
          "metadata": {},
          "execution_count": 2
        }
      ]
    },
    {
      "cell_type": "code",
      "metadata": {
        "id": "-DqwT4pysXe7",
        "outputId": "0b869d49-dfd9-4f2c-eddf-3574fe3886d7",
        "colab": {
          "base_uri": "https://localhost:8080/"
        }
      },
      "source": [
        "# Menampilkan Array b\n",
        "b"
      ],
      "execution_count": 3,
      "outputs": [
        {
          "output_type": "execute_result",
          "data": {
            "text/plain": [
              "array([[1.5, 2. , 3. ],\n",
              "       [4. , 5. , 6. ]])"
            ]
          },
          "metadata": {},
          "execution_count": 3
        }
      ]
    },
    {
      "cell_type": "code",
      "metadata": {
        "id": "u52vys8xsXe8",
        "outputId": "7a461ed3-76e1-4529-8503-35ac671506e5",
        "colab": {
          "base_uri": "https://localhost:8080/"
        }
      },
      "source": [
        "# Menampilkan Array c\n",
        "c"
      ],
      "execution_count": 4,
      "outputs": [
        {
          "output_type": "execute_result",
          "data": {
            "text/plain": [
              "array([[[1.5, 2. , 3. ],\n",
              "        [4. , 5. , 6. ]],\n",
              "\n",
              "       [[3. , 2. , 1. ],\n",
              "        [4. , 5. , 6. ]]])"
            ]
          },
          "metadata": {},
          "execution_count": 4
        }
      ]
    },
    {
      "cell_type": "markdown",
      "metadata": {
        "id": "uBCrp4qqsXe8"
      },
      "source": [
        "### Initial Placeholders"
      ]
    },
    {
      "cell_type": "code",
      "metadata": {
        "id": "wUiUZOCJsXe9",
        "outputId": "3a54389a-68b2-485e-821b-b229364cb3ea",
        "colab": {
          "base_uri": "https://localhost:8080/"
        }
      },
      "source": [
        "# Create an array of zeros\n",
        "np.zeros((3,4))"
      ],
      "execution_count": 5,
      "outputs": [
        {
          "output_type": "execute_result",
          "data": {
            "text/plain": [
              "array([[0., 0., 0., 0.],\n",
              "       [0., 0., 0., 0.],\n",
              "       [0., 0., 0., 0.]])"
            ]
          },
          "metadata": {},
          "execution_count": 5
        }
      ]
    },
    {
      "cell_type": "code",
      "metadata": {
        "id": "Fou7n_UtsXe_",
        "outputId": "0a13d6d9-d009-4c7e-fc07-780ff4779fcc",
        "colab": {
          "base_uri": "https://localhost:8080/"
        }
      },
      "source": [
        "# Create an array of ones\n",
        "np.ones((2,3,4),dtype=np.int16)"
      ],
      "execution_count": 6,
      "outputs": [
        {
          "output_type": "execute_result",
          "data": {
            "text/plain": [
              "array([[[1, 1, 1, 1],\n",
              "        [1, 1, 1, 1],\n",
              "        [1, 1, 1, 1]],\n",
              "\n",
              "       [[1, 1, 1, 1],\n",
              "        [1, 1, 1, 1],\n",
              "        [1, 1, 1, 1]]], dtype=int16)"
            ]
          },
          "metadata": {},
          "execution_count": 6
        }
      ]
    },
    {
      "cell_type": "code",
      "metadata": {
        "id": "BzZtFU8WsXfB",
        "outputId": "589dbfb4-8783-4750-95ad-bfa455599bd4",
        "colab": {
          "base_uri": "https://localhost:8080/"
        }
      },
      "source": [
        "# Create an array of evenly spaced values (step value)\n",
        "d = np.arange(10,25,5)\n",
        "d"
      ],
      "execution_count": 7,
      "outputs": [
        {
          "output_type": "execute_result",
          "data": {
            "text/plain": [
              "array([10, 15, 20])"
            ]
          },
          "metadata": {},
          "execution_count": 7
        }
      ]
    },
    {
      "cell_type": "code",
      "metadata": {
        "id": "-3xlgc-MsXfD",
        "outputId": "3ed4b034-0752-49e0-e550-0609fa9cea47",
        "colab": {
          "base_uri": "https://localhost:8080/"
        }
      },
      "source": [
        "# Create an array of evenly spaced values (number of samples)\n",
        "np.linspace(0,2,9)"
      ],
      "execution_count": 8,
      "outputs": [
        {
          "output_type": "execute_result",
          "data": {
            "text/plain": [
              "array([0.  , 0.25, 0.5 , 0.75, 1.  , 1.25, 1.5 , 1.75, 2.  ])"
            ]
          },
          "metadata": {},
          "execution_count": 8
        }
      ]
    },
    {
      "cell_type": "code",
      "metadata": {
        "id": "NRx_PBvssXfF",
        "outputId": "649c018e-ffd2-4f21-f0b3-c4ad7f9c3e1f",
        "colab": {
          "base_uri": "https://localhost:8080/"
        }
      },
      "source": [
        "# Create a constant array\n",
        "e = np.full((2,2),7)\n",
        "e"
      ],
      "execution_count": 9,
      "outputs": [
        {
          "output_type": "execute_result",
          "data": {
            "text/plain": [
              "array([[7, 7],\n",
              "       [7, 7]])"
            ]
          },
          "metadata": {},
          "execution_count": 9
        }
      ]
    },
    {
      "cell_type": "code",
      "metadata": {
        "id": "CdQdmJ9QsXfG",
        "outputId": "b11156c2-e70e-403d-be21-40e74f3a0540",
        "colab": {
          "base_uri": "https://localhost:8080/"
        }
      },
      "source": [
        "# Create a 2X2 identity matrix\n",
        "f = np.eye(2)\n",
        "f"
      ],
      "execution_count": 10,
      "outputs": [
        {
          "output_type": "execute_result",
          "data": {
            "text/plain": [
              "array([[1., 0.],\n",
              "       [0., 1.]])"
            ]
          },
          "metadata": {},
          "execution_count": 10
        }
      ]
    },
    {
      "cell_type": "code",
      "metadata": {
        "id": "Pazodo1TsXfI",
        "outputId": "ea59d0cd-507d-4073-bb28-01c73cd9127e",
        "colab": {
          "base_uri": "https://localhost:8080/"
        }
      },
      "source": [
        "# Create an array with random values\n",
        "np.random.random((2,2))"
      ],
      "execution_count": 11,
      "outputs": [
        {
          "output_type": "execute_result",
          "data": {
            "text/plain": [
              "array([[0.72335515, 0.08397678],\n",
              "       [0.93066376, 0.3792871 ]])"
            ]
          },
          "metadata": {},
          "execution_count": 11
        }
      ]
    },
    {
      "cell_type": "code",
      "metadata": {
        "id": "YAXZu66UsXfK",
        "outputId": "e8f57e09-ebb2-4b58-ec03-86f15d910d8a",
        "colab": {
          "base_uri": "https://localhost:8080/"
        }
      },
      "source": [
        "# Create an empty array\n",
        "np.empty((3,2))"
      ],
      "execution_count": 12,
      "outputs": [
        {
          "output_type": "execute_result",
          "data": {
            "text/plain": [
              "array([[1.5, 2. ],\n",
              "       [3. , 4. ],\n",
              "       [5. , 6. ]])"
            ]
          },
          "metadata": {},
          "execution_count": 12
        }
      ]
    },
    {
      "cell_type": "markdown",
      "metadata": {
        "id": "cxKO4BrYsXfL"
      },
      "source": [
        "# Input Output"
      ]
    },
    {
      "cell_type": "markdown",
      "metadata": {
        "id": "8BMfhvv-sXfM"
      },
      "source": [
        "### Saving & Loading On Disk"
      ]
    },
    {
      "cell_type": "code",
      "metadata": {
        "id": "qPZklA6NsXfM"
      },
      "source": [
        "# np.save('my_array', a)\n",
        "# np.savez('array.npz', a, b)\n",
        "# np.load('my_array.npy')"
      ],
      "execution_count": 13,
      "outputs": []
    },
    {
      "cell_type": "code",
      "metadata": {
        "id": "cEiCJM-DsXfN"
      },
      "source": [
        "# np.loadtxt(\"myfile.txt\")\n",
        "# np.genfromtxt(\"my_file.csv\", delimiter=',')\n",
        "# np.savetxt(\"myarray.txt\", a, delimiter=\" \")"
      ],
      "execution_count": 14,
      "outputs": []
    },
    {
      "cell_type": "markdown",
      "metadata": {
        "id": "uv0Ye4HosXfO"
      },
      "source": [
        "# Data Types"
      ]
    },
    {
      "cell_type": "code",
      "metadata": {
        "id": "pFFFXo_tsXfP",
        "outputId": "f2a6fa0e-7cc8-4c95-cd42-673ce9da2d8d",
        "colab": {
          "base_uri": "https://localhost:8080/"
        }
      },
      "source": [
        "# Signed 64-bit integer types\n",
        "np.int64"
      ],
      "execution_count": 15,
      "outputs": [
        {
          "output_type": "execute_result",
          "data": {
            "text/plain": [
              "numpy.int64"
            ]
          },
          "metadata": {},
          "execution_count": 15
        }
      ]
    },
    {
      "cell_type": "code",
      "metadata": {
        "id": "nSX98S3osXfQ",
        "outputId": "3c7d75c1-26a3-4fec-c3f2-4e4493e7e8a7",
        "colab": {
          "base_uri": "https://localhost:8080/"
        }
      },
      "source": [
        "# Standard double-precision floating point\n",
        "np.float32"
      ],
      "execution_count": 16,
      "outputs": [
        {
          "output_type": "execute_result",
          "data": {
            "text/plain": [
              "numpy.float32"
            ]
          },
          "metadata": {},
          "execution_count": 16
        }
      ]
    },
    {
      "cell_type": "code",
      "metadata": {
        "id": "8AnsriyJsXfQ",
        "outputId": "7f7f088b-1876-40c2-f492-d149bbfc595f",
        "colab": {
          "base_uri": "https://localhost:8080/"
        }
      },
      "source": [
        "# Complex numbers represented by 128 floats\n",
        "np.complex"
      ],
      "execution_count": 17,
      "outputs": [
        {
          "output_type": "stream",
          "name": "stderr",
          "text": [
            "/usr/local/lib/python3.7/dist-packages/ipykernel_launcher.py:2: DeprecationWarning: `np.complex` is a deprecated alias for the builtin `complex`. To silence this warning, use `complex` by itself. Doing this will not modify any behavior and is safe. If you specifically wanted the numpy scalar type, use `np.complex128` here.\n",
            "Deprecated in NumPy 1.20; for more details and guidance: https://numpy.org/devdocs/release/1.20.0-notes.html#deprecations\n",
            "  \n"
          ]
        },
        {
          "output_type": "execute_result",
          "data": {
            "text/plain": [
              "complex"
            ]
          },
          "metadata": {},
          "execution_count": 17
        }
      ]
    },
    {
      "cell_type": "code",
      "metadata": {
        "id": "oY5ftp0SsXfR",
        "outputId": "35551d35-22d9-4c81-cdc1-f415a05fba4c",
        "colab": {
          "base_uri": "https://localhost:8080/"
        }
      },
      "source": [
        "# Boolean type storing TRUE and FALSE values\n",
        "np.bool"
      ],
      "execution_count": 18,
      "outputs": [
        {
          "output_type": "stream",
          "name": "stderr",
          "text": [
            "/usr/local/lib/python3.7/dist-packages/ipykernel_launcher.py:2: DeprecationWarning: `np.bool` is a deprecated alias for the builtin `bool`. To silence this warning, use `bool` by itself. Doing this will not modify any behavior and is safe. If you specifically wanted the numpy scalar type, use `np.bool_` here.\n",
            "Deprecated in NumPy 1.20; for more details and guidance: https://numpy.org/devdocs/release/1.20.0-notes.html#deprecations\n",
            "  \n"
          ]
        },
        {
          "output_type": "execute_result",
          "data": {
            "text/plain": [
              "bool"
            ]
          },
          "metadata": {},
          "execution_count": 18
        }
      ]
    },
    {
      "cell_type": "code",
      "metadata": {
        "id": "dtlVvXWusXfR",
        "outputId": "15e27cbb-fec0-42a0-e479-045c48cae2c9",
        "colab": {
          "base_uri": "https://localhost:8080/"
        }
      },
      "source": [
        "# Python object type\n",
        "np.object"
      ],
      "execution_count": 19,
      "outputs": [
        {
          "output_type": "stream",
          "name": "stderr",
          "text": [
            "/usr/local/lib/python3.7/dist-packages/ipykernel_launcher.py:2: DeprecationWarning: `np.object` is a deprecated alias for the builtin `object`. To silence this warning, use `object` by itself. Doing this will not modify any behavior and is safe. \n",
            "Deprecated in NumPy 1.20; for more details and guidance: https://numpy.org/devdocs/release/1.20.0-notes.html#deprecations\n",
            "  \n"
          ]
        },
        {
          "output_type": "execute_result",
          "data": {
            "text/plain": [
              "object"
            ]
          },
          "metadata": {},
          "execution_count": 19
        }
      ]
    },
    {
      "cell_type": "code",
      "metadata": {
        "id": "_60WJw1nsXfR",
        "outputId": "76bc4cb7-8d22-4669-b377-238615adf5ee",
        "colab": {
          "base_uri": "https://localhost:8080/"
        }
      },
      "source": [
        "# Fixed-length string type\n",
        "np.string_"
      ],
      "execution_count": 20,
      "outputs": [
        {
          "output_type": "execute_result",
          "data": {
            "text/plain": [
              "numpy.bytes_"
            ]
          },
          "metadata": {},
          "execution_count": 20
        }
      ]
    },
    {
      "cell_type": "code",
      "metadata": {
        "id": "L3OS49w1sXfS",
        "outputId": "a66c5a6f-b0f3-4326-8f35-b4eea4d91c65",
        "colab": {
          "base_uri": "https://localhost:8080/"
        }
      },
      "source": [
        "# Fixed-length unicode type\n",
        "np.unicode_"
      ],
      "execution_count": 21,
      "outputs": [
        {
          "output_type": "execute_result",
          "data": {
            "text/plain": [
              "numpy.str_"
            ]
          },
          "metadata": {},
          "execution_count": 21
        }
      ]
    },
    {
      "cell_type": "markdown",
      "metadata": {
        "id": "YHAybfgCsXfS"
      },
      "source": [
        "# Inspecting Your Array "
      ]
    },
    {
      "cell_type": "code",
      "metadata": {
        "id": "MrIzecU7sXfS",
        "outputId": "2b14268d-87ce-4bcb-c3f5-a95f69516009",
        "colab": {
          "base_uri": "https://localhost:8080/"
        }
      },
      "source": [
        "# Array dimensions\n",
        "a.shape"
      ],
      "execution_count": 22,
      "outputs": [
        {
          "output_type": "execute_result",
          "data": {
            "text/plain": [
              "(3,)"
            ]
          },
          "metadata": {},
          "execution_count": 22
        }
      ]
    },
    {
      "cell_type": "code",
      "metadata": {
        "id": "NnDuRgZDsXfT",
        "outputId": "f86a9d71-dd8d-49fd-d957-5fad72c2ed73",
        "colab": {
          "base_uri": "https://localhost:8080/"
        }
      },
      "source": [
        "# Length of array\n",
        "len(a)"
      ],
      "execution_count": 23,
      "outputs": [
        {
          "output_type": "execute_result",
          "data": {
            "text/plain": [
              "3"
            ]
          },
          "metadata": {},
          "execution_count": 23
        }
      ]
    },
    {
      "cell_type": "code",
      "metadata": {
        "id": "ClPcfujusXfT",
        "outputId": "a3ff03fe-b870-4149-876f-daa4264d2004",
        "colab": {
          "base_uri": "https://localhost:8080/"
        }
      },
      "source": [
        "# Number of array dimensions\n",
        "b.ndim"
      ],
      "execution_count": 24,
      "outputs": [
        {
          "output_type": "execute_result",
          "data": {
            "text/plain": [
              "2"
            ]
          },
          "metadata": {},
          "execution_count": 24
        }
      ]
    },
    {
      "cell_type": "code",
      "metadata": {
        "id": "EG7raI5NsXfT",
        "outputId": "2f847e3e-bc2a-4cb9-ba52-9caf8c1b2421",
        "colab": {
          "base_uri": "https://localhost:8080/"
        }
      },
      "source": [
        "# Number of array elements\n",
        "e.size"
      ],
      "execution_count": 25,
      "outputs": [
        {
          "output_type": "execute_result",
          "data": {
            "text/plain": [
              "4"
            ]
          },
          "metadata": {},
          "execution_count": 25
        }
      ]
    },
    {
      "cell_type": "code",
      "metadata": {
        "id": "qxEsVp9ssXfT",
        "outputId": "f60fcb40-2f9b-4a9a-f345-146afa302038",
        "colab": {
          "base_uri": "https://localhost:8080/"
        }
      },
      "source": [
        "# Data type of array elements\n",
        "b.dtype"
      ],
      "execution_count": 26,
      "outputs": [
        {
          "output_type": "execute_result",
          "data": {
            "text/plain": [
              "dtype('float64')"
            ]
          },
          "metadata": {},
          "execution_count": 26
        }
      ]
    },
    {
      "cell_type": "code",
      "metadata": {
        "id": "B_LIh-0isXfU",
        "outputId": "04679c6a-3648-42eb-e995-694c2a3c7ae1",
        "colab": {
          "base_uri": "https://localhost:8080/",
          "height": 35
        }
      },
      "source": [
        "# Name of data type\n",
        "b.dtype.name"
      ],
      "execution_count": 27,
      "outputs": [
        {
          "output_type": "execute_result",
          "data": {
            "text/plain": [
              "'float64'"
            ],
            "application/vnd.google.colaboratory.intrinsic+json": {
              "type": "string"
            }
          },
          "metadata": {},
          "execution_count": 27
        }
      ]
    },
    {
      "cell_type": "code",
      "metadata": {
        "id": "Geejui8TsXfU",
        "outputId": "472c0b10-329d-4021-cc31-8ab88a2df601",
        "colab": {
          "base_uri": "https://localhost:8080/"
        }
      },
      "source": [
        "# Convert an array to a different type\n",
        "b.astype(int)"
      ],
      "execution_count": 28,
      "outputs": [
        {
          "output_type": "execute_result",
          "data": {
            "text/plain": [
              "array([[1, 2, 3],\n",
              "       [4, 5, 6]])"
            ]
          },
          "metadata": {},
          "execution_count": 28
        }
      ]
    },
    {
      "cell_type": "markdown",
      "metadata": {
        "id": "n3Rgmf1NsXfU"
      },
      "source": [
        "# Array Mathematics\n",
        "## Arithmetic Operations"
      ]
    },
    {
      "cell_type": "markdown",
      "metadata": {
        "id": "GvxDvjehsXfV"
      },
      "source": [
        "### Subtraction"
      ]
    },
    {
      "cell_type": "code",
      "metadata": {
        "id": "ywJgEJHKsXfV",
        "outputId": "e3f47807-e71d-45f2-c15f-041b62ebc314",
        "colab": {
          "base_uri": "https://localhost:8080/"
        }
      },
      "source": [
        "# Pengurangan Array - a-b\n",
        "g = a - b\n",
        "g"
      ],
      "execution_count": 29,
      "outputs": [
        {
          "output_type": "execute_result",
          "data": {
            "text/plain": [
              "array([[-0.5,  0. ,  0. ],\n",
              "       [-3. , -3. , -3. ]])"
            ]
          },
          "metadata": {},
          "execution_count": 29
        }
      ]
    },
    {
      "cell_type": "code",
      "metadata": {
        "id": "pebqkROWsXfV",
        "outputId": "e6b6657d-d357-4a94-c720-d368d7c68bff",
        "colab": {
          "base_uri": "https://localhost:8080/"
        }
      },
      "source": [
        "# Pengurangan Array - a-b\n",
        "np.subtract(a,b)"
      ],
      "execution_count": 30,
      "outputs": [
        {
          "output_type": "execute_result",
          "data": {
            "text/plain": [
              "array([[-0.5,  0. ,  0. ],\n",
              "       [-3. , -3. , -3. ]])"
            ]
          },
          "metadata": {},
          "execution_count": 30
        }
      ]
    },
    {
      "cell_type": "markdown",
      "metadata": {
        "id": "ehcBOP9bsXfW"
      },
      "source": [
        "### Addition"
      ]
    },
    {
      "cell_type": "code",
      "metadata": {
        "id": "uavp2SeOsXfW",
        "outputId": "598f9fdb-0444-4a00-82f2-2fb66ac446bc",
        "colab": {
          "base_uri": "https://localhost:8080/"
        }
      },
      "source": [
        "# Penjumlahan Array - b+a\n",
        "b + a"
      ],
      "execution_count": 31,
      "outputs": [
        {
          "output_type": "execute_result",
          "data": {
            "text/plain": [
              "array([[2.5, 4. , 6. ],\n",
              "       [5. , 7. , 9. ]])"
            ]
          },
          "metadata": {},
          "execution_count": 31
        }
      ]
    },
    {
      "cell_type": "code",
      "metadata": {
        "id": "EUOUQsklsXfW",
        "outputId": "4666819f-588a-4e1e-9f9f-c80969cac1c5",
        "colab": {
          "base_uri": "https://localhost:8080/"
        }
      },
      "source": [
        "# Penjumlahan Array - b+a\n",
        "np.add(b,a)"
      ],
      "execution_count": 32,
      "outputs": [
        {
          "output_type": "execute_result",
          "data": {
            "text/plain": [
              "array([[2.5, 4. , 6. ],\n",
              "       [5. , 7. , 9. ]])"
            ]
          },
          "metadata": {},
          "execution_count": 32
        }
      ]
    },
    {
      "cell_type": "markdown",
      "metadata": {
        "id": "AkyEI85ksXfW"
      },
      "source": [
        "### Division"
      ]
    },
    {
      "cell_type": "code",
      "metadata": {
        "id": "baoTvhX_sXfW",
        "outputId": "69df5a63-de41-40e2-d3e4-d02cef4ca18e",
        "colab": {
          "base_uri": "https://localhost:8080/"
        }
      },
      "source": [
        "# Pembagian Array - a/b\n",
        "a / b"
      ],
      "execution_count": 33,
      "outputs": [
        {
          "output_type": "execute_result",
          "data": {
            "text/plain": [
              "array([[0.66666667, 1.        , 1.        ],\n",
              "       [0.25      , 0.4       , 0.5       ]])"
            ]
          },
          "metadata": {},
          "execution_count": 33
        }
      ]
    },
    {
      "cell_type": "code",
      "metadata": {
        "id": "Bu1k0cTmsXfX",
        "outputId": "41771ce4-dac5-4a44-d9a8-6253c9dc695e",
        "colab": {
          "base_uri": "https://localhost:8080/"
        }
      },
      "source": [
        "# Pembagian Array - a/b\n",
        "np.divide(a,b)"
      ],
      "execution_count": 34,
      "outputs": [
        {
          "output_type": "execute_result",
          "data": {
            "text/plain": [
              "array([[0.66666667, 1.        , 1.        ],\n",
              "       [0.25      , 0.4       , 0.5       ]])"
            ]
          },
          "metadata": {},
          "execution_count": 34
        }
      ]
    },
    {
      "cell_type": "markdown",
      "metadata": {
        "id": "Kol10r-osXfX"
      },
      "source": [
        "### Multiplication"
      ]
    },
    {
      "cell_type": "code",
      "metadata": {
        "id": "-4quJB5WsXfX",
        "outputId": "52fe4b33-c36a-47d6-df97-392c755b729d",
        "colab": {
          "base_uri": "https://localhost:8080/"
        }
      },
      "source": [
        "# Perkalian Array - a*b\n",
        "a * b"
      ],
      "execution_count": 35,
      "outputs": [
        {
          "output_type": "execute_result",
          "data": {
            "text/plain": [
              "array([[ 1.5,  4. ,  9. ],\n",
              "       [ 4. , 10. , 18. ]])"
            ]
          },
          "metadata": {},
          "execution_count": 35
        }
      ]
    },
    {
      "cell_type": "code",
      "metadata": {
        "id": "NaAwfA7xsXfY",
        "outputId": "b96b8f67-3359-407b-d2da-91c2a8978155",
        "colab": {
          "base_uri": "https://localhost:8080/"
        }
      },
      "source": [
        "# Perkalian Array - a*b\n",
        "np.multiply(a,b)"
      ],
      "execution_count": 36,
      "outputs": [
        {
          "output_type": "execute_result",
          "data": {
            "text/plain": [
              "array([[ 1.5,  4. ,  9. ],\n",
              "       [ 4. , 10. , 18. ]])"
            ]
          },
          "metadata": {},
          "execution_count": 36
        }
      ]
    },
    {
      "cell_type": "markdown",
      "metadata": {
        "id": "ZVnL95OOsXfY"
      },
      "source": [
        "### Exponentiation"
      ]
    },
    {
      "cell_type": "code",
      "metadata": {
        "id": "OJn5FO9wsXfY",
        "outputId": "5befba2d-cc97-46d3-fee7-8802e17e928f",
        "colab": {
          "base_uri": "https://localhost:8080/"
        }
      },
      "source": [
        "# Fungsi eksponensial pada array b\n",
        "np.exp(b)"
      ],
      "execution_count": 37,
      "outputs": [
        {
          "output_type": "execute_result",
          "data": {
            "text/plain": [
              "array([[  4.48168907,   7.3890561 ,  20.08553692],\n",
              "       [ 54.59815003, 148.4131591 , 403.42879349]])"
            ]
          },
          "metadata": {},
          "execution_count": 37
        }
      ]
    },
    {
      "cell_type": "markdown",
      "metadata": {
        "id": "5vpVImUnsXfY"
      },
      "source": [
        "### Square root"
      ]
    },
    {
      "cell_type": "code",
      "metadata": {
        "id": "Jt2DpiztsXfZ",
        "outputId": "59697b2c-2684-403d-a056-80385ee99b71",
        "colab": {
          "base_uri": "https://localhost:8080/"
        }
      },
      "source": [
        "# Fungsi akar pada array b\n",
        "np.sqrt(b)"
      ],
      "execution_count": 38,
      "outputs": [
        {
          "output_type": "execute_result",
          "data": {
            "text/plain": [
              "array([[1.22474487, 1.41421356, 1.73205081],\n",
              "       [2.        , 2.23606798, 2.44948974]])"
            ]
          },
          "metadata": {},
          "execution_count": 38
        }
      ]
    },
    {
      "cell_type": "markdown",
      "metadata": {
        "id": "pJX3WY_psXfZ"
      },
      "source": [
        "### Print sines of an array"
      ]
    },
    {
      "cell_type": "code",
      "metadata": {
        "id": "h5q--5-wsXfZ",
        "outputId": "367dd94d-0874-40b9-894e-f9a831721814",
        "colab": {
          "base_uri": "https://localhost:8080/"
        }
      },
      "source": [
        "# Nilai Sinus pada array a\n",
        "np.sin(a)"
      ],
      "execution_count": 39,
      "outputs": [
        {
          "output_type": "execute_result",
          "data": {
            "text/plain": [
              "array([0.84147098, 0.90929743, 0.14112001])"
            ]
          },
          "metadata": {},
          "execution_count": 39
        }
      ]
    },
    {
      "cell_type": "markdown",
      "metadata": {
        "id": "lLPJfi4ssXfa"
      },
      "source": [
        "### Element-wise cosine "
      ]
    },
    {
      "cell_type": "code",
      "metadata": {
        "id": "woOBPZ1-sXfa",
        "outputId": "d7511135-7b35-471f-f719-d36523953341",
        "colab": {
          "base_uri": "https://localhost:8080/"
        }
      },
      "source": [
        "# Nilai Cosinus pada array b\n",
        "np.cos(b)"
      ],
      "execution_count": 40,
      "outputs": [
        {
          "output_type": "execute_result",
          "data": {
            "text/plain": [
              "array([[ 0.0707372 , -0.41614684, -0.9899925 ],\n",
              "       [-0.65364362,  0.28366219,  0.96017029]])"
            ]
          },
          "metadata": {},
          "execution_count": 40
        }
      ]
    },
    {
      "cell_type": "markdown",
      "metadata": {
        "id": "BRJPEnx2sXfa"
      },
      "source": [
        "### Element-wise natural logarithm"
      ]
    },
    {
      "cell_type": "code",
      "metadata": {
        "id": "CWWscCvLsXfb",
        "outputId": "9c922d06-bde6-4a9d-9359-bdc977d22cde",
        "colab": {
          "base_uri": "https://localhost:8080/"
        }
      },
      "source": [
        "# Nilai logaritma pada array a\n",
        "np.log(a)"
      ],
      "execution_count": 41,
      "outputs": [
        {
          "output_type": "execute_result",
          "data": {
            "text/plain": [
              "array([0.        , 0.69314718, 1.09861229])"
            ]
          },
          "metadata": {},
          "execution_count": 41
        }
      ]
    },
    {
      "cell_type": "markdown",
      "metadata": {
        "id": "Xlq3z_SHsXfb"
      },
      "source": [
        "### Dot product"
      ]
    },
    {
      "cell_type": "code",
      "metadata": {
        "id": "7o5eOIcQsXfh",
        "outputId": "69677aab-7ef3-49cf-b1d8-a86bee66ae0b",
        "colab": {
          "base_uri": "https://localhost:8080/"
        }
      },
      "source": [
        "# Perkalian Titik pada array f\n",
        "e.dot(f)"
      ],
      "execution_count": 42,
      "outputs": [
        {
          "output_type": "execute_result",
          "data": {
            "text/plain": [
              "array([[7., 7.],\n",
              "       [7., 7.]])"
            ]
          },
          "metadata": {},
          "execution_count": 42
        }
      ]
    },
    {
      "cell_type": "markdown",
      "metadata": {
        "id": "wFbDy13TsXfi"
      },
      "source": [
        "## Comparison"
      ]
    },
    {
      "cell_type": "markdown",
      "metadata": {
        "id": "GOulWFo2sXfi"
      },
      "source": [
        "### Element-wise comparison"
      ]
    },
    {
      "cell_type": "code",
      "metadata": {
        "id": "x5HBUsrUsXfj",
        "outputId": "cee05bfe-2884-49c5-c8be-8a1f428a7486",
        "colab": {
          "base_uri": "https://localhost:8080/"
        }
      },
      "source": [
        "# Perbandingan elemen array a==b \n",
        "a == b"
      ],
      "execution_count": 43,
      "outputs": [
        {
          "output_type": "execute_result",
          "data": {
            "text/plain": [
              "array([[False,  True,  True],\n",
              "       [False, False, False]])"
            ]
          },
          "metadata": {},
          "execution_count": 43
        }
      ]
    },
    {
      "cell_type": "code",
      "metadata": {
        "id": "rastV-HtsXfj",
        "outputId": "973d3897-a6e7-448c-f5a3-78f188f28999",
        "colab": {
          "base_uri": "https://localhost:8080/"
        }
      },
      "source": [
        "# Perbandingan elemen array a<2\n",
        "a < 2"
      ],
      "execution_count": 44,
      "outputs": [
        {
          "output_type": "execute_result",
          "data": {
            "text/plain": [
              "array([ True, False, False])"
            ]
          },
          "metadata": {},
          "execution_count": 44
        }
      ]
    },
    {
      "cell_type": "markdown",
      "metadata": {
        "id": "VlnWPKVnsXfk"
      },
      "source": [
        "### Array-wise comparison"
      ]
    },
    {
      "cell_type": "code",
      "metadata": {
        "id": "hjDq_SOIsXfk",
        "outputId": "8354f951-f0fc-4e32-d62f-f14e020d6696",
        "colab": {
          "base_uri": "https://localhost:8080/"
        }
      },
      "source": [
        "# Perbandingan array a,b\n",
        "np.array_equal(a, b)"
      ],
      "execution_count": 45,
      "outputs": [
        {
          "output_type": "execute_result",
          "data": {
            "text/plain": [
              "False"
            ]
          },
          "metadata": {},
          "execution_count": 45
        }
      ]
    },
    {
      "cell_type": "markdown",
      "metadata": {
        "id": "fDW0MhWrsXfl"
      },
      "source": [
        "## Aggregate Functions"
      ]
    },
    {
      "cell_type": "markdown",
      "metadata": {
        "id": "Ga0tHa8FsXfl"
      },
      "source": [
        "### Array-wise sum"
      ]
    },
    {
      "cell_type": "code",
      "metadata": {
        "id": "WSH_EiMNsXfl",
        "outputId": "d050846a-a8bd-4eaf-ab42-c95450ee3b95",
        "colab": {
          "base_uri": "https://localhost:8080/"
        }
      },
      "source": [
        "# Agregasi nilai total array a\n",
        "a.sum()"
      ],
      "execution_count": 46,
      "outputs": [
        {
          "output_type": "execute_result",
          "data": {
            "text/plain": [
              "6"
            ]
          },
          "metadata": {},
          "execution_count": 46
        }
      ]
    },
    {
      "cell_type": "markdown",
      "metadata": {
        "id": "z0rOqTdCsXfm"
      },
      "source": [
        "### Array-wise minimum value"
      ]
    },
    {
      "cell_type": "code",
      "metadata": {
        "id": "nRS4799wsXfm",
        "outputId": "3c2ceae3-6b55-4a8e-c771-e876d5ae2f88",
        "colab": {
          "base_uri": "https://localhost:8080/"
        }
      },
      "source": [
        "# Agregasi nilai minimal array a\n",
        "a.min()"
      ],
      "execution_count": 47,
      "outputs": [
        {
          "output_type": "execute_result",
          "data": {
            "text/plain": [
              "1"
            ]
          },
          "metadata": {},
          "execution_count": 47
        }
      ]
    },
    {
      "cell_type": "markdown",
      "metadata": {
        "id": "m5eiZmzfsXfm"
      },
      "source": [
        "### Maximum value of an array row"
      ]
    },
    {
      "cell_type": "code",
      "metadata": {
        "id": "q6XkpKoPsXfn",
        "outputId": "2255382a-ffd2-4302-d8b1-5b37c23701f1",
        "colab": {
          "base_uri": "https://localhost:8080/"
        }
      },
      "source": [
        "# Agregasi nilai maksimal array b\n",
        "b.max(axis=0)"
      ],
      "execution_count": 48,
      "outputs": [
        {
          "output_type": "execute_result",
          "data": {
            "text/plain": [
              "array([4., 5., 6.])"
            ]
          },
          "metadata": {},
          "execution_count": 48
        }
      ]
    },
    {
      "cell_type": "markdown",
      "metadata": {
        "id": "4pPPFvTPsXfn"
      },
      "source": [
        "### Cumulative sum of the elements"
      ]
    },
    {
      "cell_type": "code",
      "metadata": {
        "id": "I9iWLb3RsXfo",
        "outputId": "b1dec1d1-7e5e-45fc-8dbc-1afb37c29e91",
        "colab": {
          "base_uri": "https://localhost:8080/"
        }
      },
      "source": [
        "# Nilai kumulatif pada array b\n",
        "b.cumsum(axis=1)"
      ],
      "execution_count": 49,
      "outputs": [
        {
          "output_type": "execute_result",
          "data": {
            "text/plain": [
              "array([[ 1.5,  3.5,  6.5],\n",
              "       [ 4. ,  9. , 15. ]])"
            ]
          },
          "metadata": {},
          "execution_count": 49
        }
      ]
    },
    {
      "cell_type": "markdown",
      "metadata": {
        "id": "ww7suH0CsXfo"
      },
      "source": [
        "### Mean"
      ]
    },
    {
      "cell_type": "code",
      "metadata": {
        "id": "AV2eoCwHsXfo",
        "outputId": "a8be7a65-4cc8-407b-a902-9dda7ff8a11e",
        "colab": {
          "base_uri": "https://localhost:8080/"
        }
      },
      "source": [
        "# Nilai Mean array a\n",
        "a.mean()"
      ],
      "execution_count": 50,
      "outputs": [
        {
          "output_type": "execute_result",
          "data": {
            "text/plain": [
              "2.0"
            ]
          },
          "metadata": {},
          "execution_count": 50
        }
      ]
    },
    {
      "cell_type": "markdown",
      "metadata": {
        "id": "6W7cvChWsXfp"
      },
      "source": [
        "### Median "
      ]
    },
    {
      "cell_type": "code",
      "metadata": {
        "id": "_9yqhoXusXfp",
        "outputId": "7687d44c-ca37-4cc9-bfe7-da4fb05e0eac",
        "colab": {
          "base_uri": "https://localhost:8080/"
        }
      },
      "source": [
        "# Nilai Median array b\n",
        "np.median(b)"
      ],
      "execution_count": 51,
      "outputs": [
        {
          "output_type": "execute_result",
          "data": {
            "text/plain": [
              "3.5"
            ]
          },
          "metadata": {},
          "execution_count": 51
        }
      ]
    },
    {
      "cell_type": "markdown",
      "metadata": {
        "id": "9oCKYAf1sXfq"
      },
      "source": [
        "### Correlation coefficient"
      ]
    },
    {
      "cell_type": "code",
      "metadata": {
        "id": "gpK0oFyKsXfq",
        "outputId": "5acf1cb1-2903-4bcc-bd26-adb34e69bc48",
        "colab": {
          "base_uri": "https://localhost:8080/"
        }
      },
      "source": [
        "# Nilai korelasi koefisien array a\n",
        "np.corrcoef(a)"
      ],
      "execution_count": 52,
      "outputs": [
        {
          "output_type": "execute_result",
          "data": {
            "text/plain": [
              "1.0"
            ]
          },
          "metadata": {},
          "execution_count": 52
        }
      ]
    },
    {
      "cell_type": "markdown",
      "metadata": {
        "id": "RRVfnzjrsXfq"
      },
      "source": [
        "### Standard deviation"
      ]
    },
    {
      "cell_type": "code",
      "metadata": {
        "id": "vSNrmX-1sXfr",
        "outputId": "e801cbd0-cbc1-47dc-f69c-a6d7288219a4",
        "colab": {
          "base_uri": "https://localhost:8080/"
        }
      },
      "source": [
        "# Nilai standar defiasi array b\n",
        "np.std(b)"
      ],
      "execution_count": 53,
      "outputs": [
        {
          "output_type": "execute_result",
          "data": {
            "text/plain": [
              "1.5920810978785667"
            ]
          },
          "metadata": {},
          "execution_count": 53
        }
      ]
    },
    {
      "cell_type": "markdown",
      "metadata": {
        "id": "KLrk2t8osXfr"
      },
      "source": [
        "# Copying Arrays"
      ]
    },
    {
      "cell_type": "markdown",
      "metadata": {
        "id": "NvyzG5_isXfr"
      },
      "source": [
        "### Create a view of the array with the same data"
      ]
    },
    {
      "cell_type": "code",
      "metadata": {
        "id": "U9hvdixasXfs",
        "outputId": "fa811b17-122d-4f06-8219-1690a641e072",
        "colab": {
          "base_uri": "https://localhost:8080/"
        }
      },
      "source": [
        "# Melihat isi array a\n",
        "h = a.view()\n",
        "h"
      ],
      "execution_count": 54,
      "outputs": [
        {
          "output_type": "execute_result",
          "data": {
            "text/plain": [
              "array([1, 2, 3])"
            ]
          },
          "metadata": {},
          "execution_count": 54
        }
      ]
    },
    {
      "cell_type": "markdown",
      "metadata": {
        "id": "8aqmEqA_sXfs"
      },
      "source": [
        "### Create a copy of the array"
      ]
    },
    {
      "cell_type": "code",
      "metadata": {
        "id": "t0MpbWLlsXft",
        "outputId": "abf6ba32-83eb-4c77-e7d5-1b6c5fcb730c",
        "colab": {
          "base_uri": "https://localhost:8080/"
        }
      },
      "source": [
        "# Copy array a\n",
        "np.copy(a)"
      ],
      "execution_count": 55,
      "outputs": [
        {
          "output_type": "execute_result",
          "data": {
            "text/plain": [
              "array([1, 2, 3])"
            ]
          },
          "metadata": {},
          "execution_count": 55
        }
      ]
    },
    {
      "cell_type": "markdown",
      "metadata": {
        "id": "vjDPekhcsXft"
      },
      "source": [
        "### Create a deep copy of the array"
      ]
    },
    {
      "cell_type": "code",
      "metadata": {
        "id": "yjMxtm67sXft",
        "outputId": "df111b83-6a33-4e39-accc-a48a0cd10259",
        "colab": {
          "base_uri": "https://localhost:8080/"
        }
      },
      "source": [
        "# Deef copy array a\n",
        "h = a.copy()\n",
        "h"
      ],
      "execution_count": 56,
      "outputs": [
        {
          "output_type": "execute_result",
          "data": {
            "text/plain": [
              "array([1, 2, 3])"
            ]
          },
          "metadata": {},
          "execution_count": 56
        }
      ]
    },
    {
      "cell_type": "markdown",
      "metadata": {
        "id": "RIZz0ZW8sXfu"
      },
      "source": [
        "# Sorting Arrays"
      ]
    },
    {
      "cell_type": "markdown",
      "metadata": {
        "id": "huVZNc0ZsXfu"
      },
      "source": [
        "### Sort an array"
      ]
    },
    {
      "cell_type": "code",
      "metadata": {
        "id": "7CluyJD5sXfu",
        "outputId": "6e76c1e8-d3b4-4d27-e942-ebd72dd2d2d2",
        "colab": {
          "base_uri": "https://localhost:8080/"
        }
      },
      "source": [
        "# Mengurutkan array a\n",
        "a.sort()\n",
        "a"
      ],
      "execution_count": 57,
      "outputs": [
        {
          "output_type": "execute_result",
          "data": {
            "text/plain": [
              "array([1, 2, 3])"
            ]
          },
          "metadata": {},
          "execution_count": 57
        }
      ]
    },
    {
      "cell_type": "markdown",
      "metadata": {
        "id": "5Y4m6L6EsXfv"
      },
      "source": [
        "### Sort the elements of an array's axis"
      ]
    },
    {
      "cell_type": "code",
      "metadata": {
        "id": "-gHWPbsdsXfv",
        "outputId": "ace7f9c7-46d7-4e59-c10d-e226d68137b3",
        "colab": {
          "base_uri": "https://localhost:8080/"
        }
      },
      "source": [
        "# Mengurutkan array c\n",
        "c.sort(axis=0)\n",
        "c"
      ],
      "execution_count": 58,
      "outputs": [
        {
          "output_type": "execute_result",
          "data": {
            "text/plain": [
              "array([[[1.5, 2. , 1. ],\n",
              "        [4. , 5. , 6. ]],\n",
              "\n",
              "       [[3. , 2. , 3. ],\n",
              "        [4. , 5. , 6. ]]])"
            ]
          },
          "metadata": {},
          "execution_count": 58
        }
      ]
    },
    {
      "cell_type": "markdown",
      "metadata": {
        "id": "wVO9P3rusXfw"
      },
      "source": [
        "# Subsetting, Slicing, Indexing"
      ]
    },
    {
      "cell_type": "markdown",
      "metadata": {
        "id": "hKQPVLBgsXfw"
      },
      "source": [
        "## Subsetting"
      ]
    },
    {
      "cell_type": "markdown",
      "metadata": {
        "id": "nkos5wdQsXfw"
      },
      "source": [
        "### Select the element at the 2nd index"
      ]
    },
    {
      "cell_type": "code",
      "metadata": {
        "id": "sdoMbzHHsXfx",
        "outputId": "6cf0c610-f9c1-4752-bbd5-c154a20bb2ea",
        "colab": {
          "base_uri": "https://localhost:8080/"
        }
      },
      "source": [
        "# Mengambil nilai index ke 2 pada elemen array a\n",
        "a[2]"
      ],
      "execution_count": 59,
      "outputs": [
        {
          "output_type": "execute_result",
          "data": {
            "text/plain": [
              "3"
            ]
          },
          "metadata": {},
          "execution_count": 59
        }
      ]
    },
    {
      "cell_type": "markdown",
      "metadata": {
        "id": "7Y4O8SnUsXfx"
      },
      "source": [
        "### Select the element at row 1 column 2 (equivalent to b[1][2])\n"
      ]
    },
    {
      "cell_type": "code",
      "metadata": {
        "id": "CR8r0zJ4sXfy",
        "outputId": "76272b12-4517-4f01-8cb8-2c03549c2e73",
        "colab": {
          "base_uri": "https://localhost:8080/"
        }
      },
      "source": [
        "# Mengambil nilai baris ke 1 kolom ke 2 pada elemen array a\n",
        "b[1,2]"
      ],
      "execution_count": 60,
      "outputs": [
        {
          "output_type": "execute_result",
          "data": {
            "text/plain": [
              "6.0"
            ]
          },
          "metadata": {},
          "execution_count": 60
        }
      ]
    },
    {
      "cell_type": "markdown",
      "metadata": {
        "id": "drLOEvRpsXfy"
      },
      "source": [
        "## Slicing"
      ]
    },
    {
      "cell_type": "markdown",
      "metadata": {
        "id": "hlgx2dUjsXfy"
      },
      "source": [
        "### Select items at index 0 and 1"
      ]
    },
    {
      "cell_type": "code",
      "metadata": {
        "id": "JxCTlCQosXf1",
        "outputId": "e84d7c23-5e45-4302-d637-263196dacb78",
        "colab": {
          "base_uri": "https://localhost:8080/"
        }
      },
      "source": [
        "# Mengambil nilai index ke 0 - 1 pada elemen array a\n",
        "a[0:2]"
      ],
      "execution_count": 61,
      "outputs": [
        {
          "output_type": "execute_result",
          "data": {
            "text/plain": [
              "array([1, 2])"
            ]
          },
          "metadata": {},
          "execution_count": 61
        }
      ]
    },
    {
      "cell_type": "markdown",
      "metadata": {
        "id": "zyMN1FMgsXf1"
      },
      "source": [
        "### Select items at rows 0 and 1 in column 1"
      ]
    },
    {
      "cell_type": "code",
      "metadata": {
        "id": "WKYGyK50sXf2",
        "outputId": "9d9a3570-978d-45f5-c102-0b4dd7780a5b",
        "colab": {
          "base_uri": "https://localhost:8080/"
        }
      },
      "source": [
        "# Mengambil nilai index ke 0 - 1 kolom ke 1 pada elemen array b\n",
        "b[0:2,1] "
      ],
      "execution_count": 62,
      "outputs": [
        {
          "output_type": "execute_result",
          "data": {
            "text/plain": [
              "array([2., 5.])"
            ]
          },
          "metadata": {},
          "execution_count": 62
        }
      ]
    },
    {
      "cell_type": "markdown",
      "metadata": {
        "id": "rPfu4GJIsXf2"
      },
      "source": [
        "### Select all items at row 0 (equivalent to b[0:1, :])"
      ]
    },
    {
      "cell_type": "code",
      "metadata": {
        "id": "TcJjYluksXf3",
        "outputId": "cb7fc94d-a9a0-47ff-90df-f31d58142a97",
        "colab": {
          "base_uri": "https://localhost:8080/"
        }
      },
      "source": [
        "# Mengambil semua nilai baris ke 0 pada elemen array b\n",
        "b[:1]"
      ],
      "execution_count": 63,
      "outputs": [
        {
          "output_type": "execute_result",
          "data": {
            "text/plain": [
              "array([[1.5, 2. , 3. ]])"
            ]
          },
          "metadata": {},
          "execution_count": 63
        }
      ]
    },
    {
      "cell_type": "markdown",
      "metadata": {
        "id": "apfYFg4jsXf3"
      },
      "source": [
        "### Same as [1,:,:]"
      ]
    },
    {
      "cell_type": "code",
      "metadata": {
        "id": "rr2tgnZdsXf3",
        "outputId": "c5cadb23-7874-49db-f104-fb6db6fab544",
        "colab": {
          "base_uri": "https://localhost:8080/"
        }
      },
      "source": [
        "# Mengambil semua nilai baris ke 1 pada elemen array c\n",
        "c[1,...]"
      ],
      "execution_count": 64,
      "outputs": [
        {
          "output_type": "execute_result",
          "data": {
            "text/plain": [
              "array([[3., 2., 3.],\n",
              "       [4., 5., 6.]])"
            ]
          },
          "metadata": {},
          "execution_count": 64
        }
      ]
    },
    {
      "cell_type": "markdown",
      "metadata": {
        "id": "2dkMqyFVsXf4"
      },
      "source": [
        "### Reversed array a "
      ]
    },
    {
      "cell_type": "code",
      "metadata": {
        "id": "8c3KPD8TsXf4",
        "outputId": "137e6a6a-eaa6-40f4-8930-ede3b75aa244",
        "colab": {
          "base_uri": "https://localhost:8080/"
        }
      },
      "source": [
        "# Mengambil nilai pada elemen array a secara terbalik\n",
        "a[ : :-1]"
      ],
      "execution_count": 65,
      "outputs": [
        {
          "output_type": "execute_result",
          "data": {
            "text/plain": [
              "array([3, 2, 1])"
            ]
          },
          "metadata": {},
          "execution_count": 65
        }
      ]
    },
    {
      "cell_type": "markdown",
      "metadata": {
        "id": "JoqTrBTSsXf5"
      },
      "source": [
        "# Array Manipulation"
      ]
    },
    {
      "cell_type": "markdown",
      "metadata": {
        "id": "7RNzpi_KsXf5"
      },
      "source": [
        "## Transposing Array"
      ]
    },
    {
      "cell_type": "markdown",
      "metadata": {
        "id": "UDQZAnwbsXf5"
      },
      "source": [
        "### Permute array dimensions"
      ]
    },
    {
      "cell_type": "code",
      "metadata": {
        "id": "A10Tf4I_sXf6"
      },
      "source": [
        "# Transpose array b\n",
        "i = np.transpose(b)"
      ],
      "execution_count": 66,
      "outputs": []
    },
    {
      "cell_type": "code",
      "metadata": {
        "id": "9jtPsDKlsXf6",
        "outputId": "45337df6-3456-4b3a-c56a-0feafb7ef4e4",
        "colab": {
          "base_uri": "https://localhost:8080/"
        }
      },
      "source": [
        "i.T"
      ],
      "execution_count": 67,
      "outputs": [
        {
          "output_type": "execute_result",
          "data": {
            "text/plain": [
              "array([[1.5, 2. , 3. ],\n",
              "       [4. , 5. , 6. ]])"
            ]
          },
          "metadata": {},
          "execution_count": 67
        }
      ]
    },
    {
      "cell_type": "markdown",
      "metadata": {
        "id": "cW5VXqInsXf6"
      },
      "source": [
        "##  Changing Array Shape"
      ]
    },
    {
      "cell_type": "markdown",
      "metadata": {
        "id": "tk9tOHi0sXf7"
      },
      "source": [
        "### Flatten the array"
      ]
    },
    {
      "cell_type": "code",
      "metadata": {
        "id": "YF3WtMPWsXf7",
        "outputId": "58ec7f98-93a6-4fe4-b2d8-df0a0556bb3d",
        "colab": {
          "base_uri": "https://localhost:8080/"
        }
      },
      "source": [
        "b"
      ],
      "execution_count": 68,
      "outputs": [
        {
          "output_type": "execute_result",
          "data": {
            "text/plain": [
              "array([[1.5, 2. , 3. ],\n",
              "       [4. , 5. , 6. ]])"
            ]
          },
          "metadata": {},
          "execution_count": 68
        }
      ]
    },
    {
      "cell_type": "code",
      "metadata": {
        "id": "_o860hBEsXf8",
        "outputId": "54a04273-0dd2-44b0-b390-d05db471ae18",
        "colab": {
          "base_uri": "https://localhost:8080/"
        }
      },
      "source": [
        "# Meratakan array b menjadi satu dimensi\n",
        "b.ravel()"
      ],
      "execution_count": 69,
      "outputs": [
        {
          "output_type": "execute_result",
          "data": {
            "text/plain": [
              "array([1.5, 2. , 3. , 4. , 5. , 6. ])"
            ]
          },
          "metadata": {},
          "execution_count": 69
        }
      ]
    },
    {
      "cell_type": "markdown",
      "metadata": {
        "id": "s-1r6us6sXf8"
      },
      "source": [
        "### Reshape, but don’t change data"
      ]
    },
    {
      "cell_type": "code",
      "metadata": {
        "id": "soiD6MeYsXf8",
        "outputId": "db53f1eb-55bd-47e2-b166-7dc3ee15899f",
        "colab": {
          "base_uri": "https://localhost:8080/"
        }
      },
      "source": [
        "g"
      ],
      "execution_count": 70,
      "outputs": [
        {
          "output_type": "execute_result",
          "data": {
            "text/plain": [
              "array([[-0.5,  0. ,  0. ],\n",
              "       [-3. , -3. , -3. ]])"
            ]
          },
          "metadata": {},
          "execution_count": 70
        }
      ]
    },
    {
      "cell_type": "code",
      "metadata": {
        "id": "RCHtLLXpsXf9",
        "outputId": "322e8324-3bfa-4c19-9f61-46cd1736559e",
        "colab": {
          "base_uri": "https://localhost:8080/"
        }
      },
      "source": [
        "# Mengubah array g menjadi 2 dimensi\n",
        "g.reshape(3,-2)"
      ],
      "execution_count": 71,
      "outputs": [
        {
          "output_type": "execute_result",
          "data": {
            "text/plain": [
              "array([[-0.5,  0. ],\n",
              "       [ 0. , -3. ],\n",
              "       [-3. , -3. ]])"
            ]
          },
          "metadata": {},
          "execution_count": 71
        }
      ]
    },
    {
      "cell_type": "markdown",
      "metadata": {
        "id": "DH1aBOkjsXf9"
      },
      "source": [
        "## Adding/Removing Elements"
      ]
    },
    {
      "cell_type": "markdown",
      "metadata": {
        "id": "Qz39qsJqsXf9"
      },
      "source": [
        "### Return a new array with shape (2,6) "
      ]
    },
    {
      "cell_type": "code",
      "metadata": {
        "id": "lxYizlsEsXf-",
        "outputId": "e36feffb-4e06-48a6-f09b-4c90005cfd52",
        "colab": {
          "base_uri": "https://localhost:8080/"
        }
      },
      "source": [
        "h"
      ],
      "execution_count": 72,
      "outputs": [
        {
          "output_type": "execute_result",
          "data": {
            "text/plain": [
              "array([1, 2, 3])"
            ]
          },
          "metadata": {},
          "execution_count": 72
        }
      ]
    },
    {
      "cell_type": "code",
      "metadata": {
        "scrolled": true,
        "id": "rVNC8KmAsXf-",
        "outputId": "180a2bc9-a968-4af6-e53b-c2a57faeb47c",
        "colab": {
          "base_uri": "https://localhost:8080/"
        }
      },
      "source": [
        "# Menambah jumlah elemen array\n",
        "np.resize(h, (2,6))"
      ],
      "execution_count": 73,
      "outputs": [
        {
          "output_type": "execute_result",
          "data": {
            "text/plain": [
              "array([[1, 2, 3, 1, 2, 3],\n",
              "       [1, 2, 3, 1, 2, 3]])"
            ]
          },
          "metadata": {},
          "execution_count": 73
        }
      ]
    },
    {
      "cell_type": "markdown",
      "metadata": {
        "id": "xs6tA9cusXf-"
      },
      "source": [
        "### Append items to an array"
      ]
    },
    {
      "cell_type": "code",
      "metadata": {
        "id": "8eCV7tRZsXf_",
        "outputId": "e926bdb6-430a-488a-8f04-9a1d847b1fe9",
        "colab": {
          "base_uri": "https://localhost:8080/"
        }
      },
      "source": [
        "h"
      ],
      "execution_count": 74,
      "outputs": [
        {
          "output_type": "execute_result",
          "data": {
            "text/plain": [
              "array([1, 2, 3])"
            ]
          },
          "metadata": {},
          "execution_count": 74
        }
      ]
    },
    {
      "cell_type": "code",
      "metadata": {
        "id": "4AAtuI2tsXf_",
        "outputId": "2501a8da-9306-43b2-ebfd-9cc4b2c05140",
        "colab": {
          "base_uri": "https://localhost:8080/"
        }
      },
      "source": [
        "g"
      ],
      "execution_count": 75,
      "outputs": [
        {
          "output_type": "execute_result",
          "data": {
            "text/plain": [
              "array([[-0.5,  0. ,  0. ],\n",
              "       [-3. , -3. , -3. ]])"
            ]
          },
          "metadata": {},
          "execution_count": 75
        }
      ]
    },
    {
      "cell_type": "code",
      "metadata": {
        "id": "KGTzqLtLsXf_",
        "outputId": "96c66bf9-665e-45b0-9af5-924bd236e797",
        "colab": {
          "base_uri": "https://localhost:8080/"
        }
      },
      "source": [
        "# Menambahkan elemen array h dengan array g \n",
        "np.append(h,g)"
      ],
      "execution_count": 76,
      "outputs": [
        {
          "output_type": "execute_result",
          "data": {
            "text/plain": [
              "array([ 1. ,  2. ,  3. , -0.5,  0. ,  0. , -3. , -3. , -3. ])"
            ]
          },
          "metadata": {},
          "execution_count": 76
        }
      ]
    },
    {
      "cell_type": "markdown",
      "metadata": {
        "id": "1WwvFYnJsXgA"
      },
      "source": [
        "### Insert items in an array"
      ]
    },
    {
      "cell_type": "code",
      "metadata": {
        "id": "JNmsYUjAsXgA",
        "outputId": "3b94cde1-cc76-4d2d-e239-54b06bba3874",
        "colab": {
          "base_uri": "https://localhost:8080/"
        }
      },
      "source": [
        "a"
      ],
      "execution_count": 77,
      "outputs": [
        {
          "output_type": "execute_result",
          "data": {
            "text/plain": [
              "array([1, 2, 3])"
            ]
          },
          "metadata": {},
          "execution_count": 77
        }
      ]
    },
    {
      "cell_type": "code",
      "metadata": {
        "id": "xtYH69x8sXgA",
        "outputId": "1f616303-eaab-4726-b3a7-587a122c249d",
        "colab": {
          "base_uri": "https://localhost:8080/"
        }
      },
      "source": [
        "# Memasukkan nilai 5 index ke 1 dalam array a\n",
        "np.insert(a, 1, 5)"
      ],
      "execution_count": 78,
      "outputs": [
        {
          "output_type": "execute_result",
          "data": {
            "text/plain": [
              "array([1, 5, 2, 3])"
            ]
          },
          "metadata": {},
          "execution_count": 78
        }
      ]
    },
    {
      "cell_type": "markdown",
      "metadata": {
        "id": "8vPo_C93sXgA"
      },
      "source": [
        "### Delete items from an array"
      ]
    },
    {
      "cell_type": "code",
      "metadata": {
        "id": "zxbUSoEUsXgB",
        "outputId": "a34d062a-4c44-478e-81b8-142e64812138",
        "colab": {
          "base_uri": "https://localhost:8080/"
        }
      },
      "source": [
        "a"
      ],
      "execution_count": 79,
      "outputs": [
        {
          "output_type": "execute_result",
          "data": {
            "text/plain": [
              "array([1, 2, 3])"
            ]
          },
          "metadata": {},
          "execution_count": 79
        }
      ]
    },
    {
      "cell_type": "code",
      "metadata": {
        "id": "--E6RLSgsXgB",
        "outputId": "77ac5b0c-30e6-4a70-bc91-354a36f0353c",
        "colab": {
          "base_uri": "https://localhost:8080/"
        }
      },
      "source": [
        "# Menghapus elemen array a index ke 1\n",
        "np.delete(a,[1])"
      ],
      "execution_count": 80,
      "outputs": [
        {
          "output_type": "execute_result",
          "data": {
            "text/plain": [
              "array([1, 3])"
            ]
          },
          "metadata": {},
          "execution_count": 80
        }
      ]
    },
    {
      "cell_type": "markdown",
      "metadata": {
        "id": "k0lYA6ulsXgB"
      },
      "source": [
        "## Combining Arrays"
      ]
    },
    {
      "cell_type": "markdown",
      "metadata": {
        "id": "s0gpp_R7sXgB"
      },
      "source": [
        "###  Concatenate arrays"
      ]
    },
    {
      "cell_type": "code",
      "metadata": {
        "id": "PUKsb9JosXgC",
        "outputId": "ff6a9b90-bac5-4ec6-c1c1-8401b8683574",
        "colab": {
          "base_uri": "https://localhost:8080/"
        }
      },
      "source": [
        "a"
      ],
      "execution_count": 81,
      "outputs": [
        {
          "output_type": "execute_result",
          "data": {
            "text/plain": [
              "array([1, 2, 3])"
            ]
          },
          "metadata": {},
          "execution_count": 81
        }
      ]
    },
    {
      "cell_type": "code",
      "metadata": {
        "id": "N-xuSxw2sXgC",
        "outputId": "04712efe-468a-4a9f-b600-5e2bac48551f",
        "colab": {
          "base_uri": "https://localhost:8080/"
        }
      },
      "source": [
        "d"
      ],
      "execution_count": 82,
      "outputs": [
        {
          "output_type": "execute_result",
          "data": {
            "text/plain": [
              "array([10, 15, 20])"
            ]
          },
          "metadata": {},
          "execution_count": 82
        }
      ]
    },
    {
      "cell_type": "code",
      "metadata": {
        "id": "yOZrqK2SsXgC",
        "outputId": "f7d915a7-5bfb-4e08-e6f3-8d8607114a0a",
        "colab": {
          "base_uri": "https://localhost:8080/"
        }
      },
      "source": [
        "# Menggabungkan elemen array a dan d\n",
        "np.concatenate((a,d),axis=0) "
      ],
      "execution_count": 83,
      "outputs": [
        {
          "output_type": "execute_result",
          "data": {
            "text/plain": [
              "array([ 1,  2,  3, 10, 15, 20])"
            ]
          },
          "metadata": {},
          "execution_count": 83
        }
      ]
    },
    {
      "cell_type": "markdown",
      "metadata": {
        "id": "0sBAzX6DsXgC"
      },
      "source": [
        "### Stack arrays vertically (row-wise)"
      ]
    },
    {
      "cell_type": "code",
      "metadata": {
        "id": "RWYRB5uUsXgD",
        "outputId": "5ffac792-a528-4492-b864-4842dd98ba05",
        "colab": {
          "base_uri": "https://localhost:8080/"
        }
      },
      "source": [
        "a"
      ],
      "execution_count": 84,
      "outputs": [
        {
          "output_type": "execute_result",
          "data": {
            "text/plain": [
              "array([1, 2, 3])"
            ]
          },
          "metadata": {},
          "execution_count": 84
        }
      ]
    },
    {
      "cell_type": "code",
      "metadata": {
        "id": "M9Ak8OcqsXgD",
        "outputId": "da54664a-865a-4eea-98cb-b880bc974289",
        "colab": {
          "base_uri": "https://localhost:8080/"
        }
      },
      "source": [
        "b"
      ],
      "execution_count": 85,
      "outputs": [
        {
          "output_type": "execute_result",
          "data": {
            "text/plain": [
              "array([[1.5, 2. , 3. ],\n",
              "       [4. , 5. , 6. ]])"
            ]
          },
          "metadata": {},
          "execution_count": 85
        }
      ]
    },
    {
      "cell_type": "code",
      "metadata": {
        "scrolled": true,
        "id": "N0tuSXqUsXgD",
        "outputId": "2181a866-172a-4160-80f2-b1470d795439",
        "colab": {
          "base_uri": "https://localhost:8080/"
        }
      },
      "source": [
        "# Susunan array secara vertikal (berdasarkan baris) array a dan b\n",
        "np.vstack((a,b))"
      ],
      "execution_count": 86,
      "outputs": [
        {
          "output_type": "execute_result",
          "data": {
            "text/plain": [
              "array([[1. , 2. , 3. ],\n",
              "       [1.5, 2. , 3. ],\n",
              "       [4. , 5. , 6. ]])"
            ]
          },
          "metadata": {},
          "execution_count": 86
        }
      ]
    },
    {
      "cell_type": "markdown",
      "metadata": {
        "id": "--wIKGEUsXgD"
      },
      "source": [
        "### Stack arrays vertically (row-wise)"
      ]
    },
    {
      "cell_type": "code",
      "metadata": {
        "id": "5bPoMFpAsXgE",
        "outputId": "7ff4183a-9b07-4ba5-fe5d-4d2fc27eb385",
        "colab": {
          "base_uri": "https://localhost:8080/"
        }
      },
      "source": [
        "e"
      ],
      "execution_count": 87,
      "outputs": [
        {
          "output_type": "execute_result",
          "data": {
            "text/plain": [
              "array([[7, 7],\n",
              "       [7, 7]])"
            ]
          },
          "metadata": {},
          "execution_count": 87
        }
      ]
    },
    {
      "cell_type": "code",
      "metadata": {
        "id": "2Po7tUyfsXgE",
        "outputId": "d874a03f-1545-435c-9308-93bf9882546b",
        "colab": {
          "base_uri": "https://localhost:8080/"
        }
      },
      "source": [
        "f"
      ],
      "execution_count": 88,
      "outputs": [
        {
          "output_type": "execute_result",
          "data": {
            "text/plain": [
              "array([[1., 0.],\n",
              "       [0., 1.]])"
            ]
          },
          "metadata": {},
          "execution_count": 88
        }
      ]
    },
    {
      "cell_type": "code",
      "metadata": {
        "id": "jeRULHqHsXgE",
        "outputId": "616392cd-3f30-4173-92fb-29205af7b92a",
        "colab": {
          "base_uri": "https://localhost:8080/"
        }
      },
      "source": [
        "# Susunan array secara vertikal (berdasarkan baris) array e dan f\n",
        "np.r_[e,f]"
      ],
      "execution_count": 89,
      "outputs": [
        {
          "output_type": "execute_result",
          "data": {
            "text/plain": [
              "array([[7., 7.],\n",
              "       [7., 7.],\n",
              "       [1., 0.],\n",
              "       [0., 1.]])"
            ]
          },
          "metadata": {},
          "execution_count": 89
        }
      ]
    },
    {
      "cell_type": "markdown",
      "metadata": {
        "id": "1d9ruoHFsXgE"
      },
      "source": [
        "### Stack arrays horizontally (column-wise)"
      ]
    },
    {
      "cell_type": "code",
      "metadata": {
        "id": "DLRKp0tlsXgF",
        "outputId": "a0b01d74-64ce-4ff2-fcbc-330605f6c776",
        "colab": {
          "base_uri": "https://localhost:8080/"
        }
      },
      "source": [
        "# Susunan array secara horizontal (berdasarkan kolom) array e dan f\n",
        "np.hstack((e,f))"
      ],
      "execution_count": 90,
      "outputs": [
        {
          "output_type": "execute_result",
          "data": {
            "text/plain": [
              "array([[7., 7., 1., 0.],\n",
              "       [7., 7., 0., 1.]])"
            ]
          },
          "metadata": {},
          "execution_count": 90
        }
      ]
    },
    {
      "cell_type": "markdown",
      "metadata": {
        "id": "_W7JKsxssXgF"
      },
      "source": [
        "### Create stacked column-wise arrays "
      ]
    },
    {
      "cell_type": "code",
      "metadata": {
        "id": "CmI6tXRNsXgF",
        "outputId": "85b6cda5-b959-44df-d465-a5e3c1286497",
        "colab": {
          "base_uri": "https://localhost:8080/"
        }
      },
      "source": [
        "a"
      ],
      "execution_count": 91,
      "outputs": [
        {
          "output_type": "execute_result",
          "data": {
            "text/plain": [
              "array([1, 2, 3])"
            ]
          },
          "metadata": {},
          "execution_count": 91
        }
      ]
    },
    {
      "cell_type": "code",
      "metadata": {
        "id": "wcyAweArsXgF",
        "outputId": "35459f16-37d6-4981-cab0-80e27b2ed60c",
        "colab": {
          "base_uri": "https://localhost:8080/"
        }
      },
      "source": [
        "d"
      ],
      "execution_count": 92,
      "outputs": [
        {
          "output_type": "execute_result",
          "data": {
            "text/plain": [
              "array([10, 15, 20])"
            ]
          },
          "metadata": {},
          "execution_count": 92
        }
      ]
    },
    {
      "cell_type": "code",
      "metadata": {
        "id": "lY_L0I1LsXgG",
        "outputId": "27779e34-d6cc-42ea-d562-3b2e282c4b37",
        "colab": {
          "base_uri": "https://localhost:8080/"
        }
      },
      "source": [
        "# Susunan berdasarkan kolom array a dan d\n",
        "np.column_stack((a,d))"
      ],
      "execution_count": 93,
      "outputs": [
        {
          "output_type": "execute_result",
          "data": {
            "text/plain": [
              "array([[ 1, 10],\n",
              "       [ 2, 15],\n",
              "       [ 3, 20]])"
            ]
          },
          "metadata": {},
          "execution_count": 93
        }
      ]
    },
    {
      "cell_type": "markdown",
      "metadata": {
        "id": "TI6yUZxNsXgG"
      },
      "source": [
        "### Create stacked column-wise arrays"
      ]
    },
    {
      "cell_type": "code",
      "metadata": {
        "scrolled": true,
        "id": "DtucqXS0sXgG",
        "outputId": "4236269d-0147-4308-cff1-a1fe63646d0f",
        "colab": {
          "base_uri": "https://localhost:8080/"
        }
      },
      "source": [
        "# Susunan berdasarkan kolom array a dan d\n",
        "np.c_[a,d]"
      ],
      "execution_count": 94,
      "outputs": [
        {
          "output_type": "execute_result",
          "data": {
            "text/plain": [
              "array([[ 1, 10],\n",
              "       [ 2, 15],\n",
              "       [ 3, 20]])"
            ]
          },
          "metadata": {},
          "execution_count": 94
        }
      ]
    },
    {
      "cell_type": "markdown",
      "metadata": {
        "id": "YZ7TuXPGsXgG"
      },
      "source": [
        "## Splitting Arrays"
      ]
    },
    {
      "cell_type": "markdown",
      "metadata": {
        "id": "sEA8OJQ1sXgG"
      },
      "source": [
        "### Split the array horizontally at the 3rd index"
      ]
    },
    {
      "cell_type": "code",
      "metadata": {
        "id": "c7jARc0-sXgH",
        "outputId": "64fcfb89-e1c6-4f79-846c-5cfa201c06c3",
        "colab": {
          "base_uri": "https://localhost:8080/"
        }
      },
      "source": [
        "# Memisahkan array a secara horizontal pada indeks ke-3\n",
        "np.hsplit(a,3)"
      ],
      "execution_count": 95,
      "outputs": [
        {
          "output_type": "execute_result",
          "data": {
            "text/plain": [
              "[array([1]), array([2]), array([3])]"
            ]
          },
          "metadata": {},
          "execution_count": 95
        }
      ]
    },
    {
      "cell_type": "markdown",
      "metadata": {
        "id": "bSmI_piJsXgH"
      },
      "source": [
        "### Split the array vertically at the 2nd index"
      ]
    },
    {
      "cell_type": "code",
      "metadata": {
        "id": "G0uOWkWisXgH",
        "outputId": "944aadc2-50c0-41dd-8917-9790d20b07bc",
        "colab": {
          "base_uri": "https://localhost:8080/"
        }
      },
      "source": [
        "# Memisahkan array c secara vertikal pada indeks ke-2\n",
        "np.vsplit(c,2)"
      ],
      "execution_count": 96,
      "outputs": [
        {
          "output_type": "execute_result",
          "data": {
            "text/plain": [
              "[array([[[1.5, 2. , 1. ],\n",
              "         [4. , 5. , 6. ]]]), array([[[3., 2., 3.],\n",
              "         [4., 5., 6.]]])]"
            ]
          },
          "metadata": {},
          "execution_count": 96
        }
      ]
    },
    {
      "cell_type": "markdown",
      "metadata": {
        "id": "SD0Imgr8sXgH"
      },
      "source": [
        "# Thank You"
      ]
    }
  ]
}