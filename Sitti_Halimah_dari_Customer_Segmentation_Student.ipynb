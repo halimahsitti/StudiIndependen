{
  "nbformat": 4,
  "nbformat_minor": 0,
  "metadata": {
    "colab": {
      "name": "Sitti Halimah dari Customer Segmentation_Student.ipynb",
      "provenance": [],
      "collapsed_sections": [],
      "include_colab_link": true
    },
    "kernelspec": {
      "display_name": "Python 3",
      "language": "python",
      "name": "python3"
    },
    "language_info": {
      "codemirror_mode": {
        "name": "ipython",
        "version": 3
      },
      "file_extension": ".py",
      "mimetype": "text/x-python",
      "name": "python",
      "nbconvert_exporter": "python",
      "pygments_lexer": "ipython3",
      "version": "3.7.6"
    }
  },
  "cells": [
    {
      "cell_type": "markdown",
      "metadata": {
        "id": "view-in-github",
        "colab_type": "text"
      },
      "source": [
        "<a href=\"https://colab.research.google.com/github/halimahsitti/StudiIndependen/blob/main/Sitti_Halimah_dari_Customer_Segmentation_Student.ipynb\" target=\"_parent\"><img src=\"https://colab.research.google.com/assets/colab-badge.svg\" alt=\"Open In Colab\"/></a>"
      ]
    },
    {
      "cell_type": "markdown",
      "metadata": {
        "id": "7w6xl-0E66uk"
      },
      "source": [
        "# Agglomerative Clustering"
      ]
    },
    {
      "cell_type": "code",
      "metadata": {
        "id": "YpfUK-Na66ul"
      },
      "source": [
        "import pandas as pd\n",
        "import numpy as np\n",
        "from matplotlib import pyplot as plt\n",
        "from sklearn.cluster import AgglomerativeClustering\n",
        "import scipy.cluster.hierarchy as sch\n",
        "from sklearn.metrics import silhouette_score\n",
        "from sklearn.preprocessing import StandardScaler"
      ],
      "execution_count": 3,
      "outputs": []
    },
    {
      "cell_type": "markdown",
      "source": [
        "Silahkan download datanya disini https://drive.google.com/file/d/1-OIjQyPh3eYzmnyPp17FwQEkusoFCYzX/view?usp=sharing\n",
        "\n",
        "Disini kita akan membuat customer segmentation dari data customer sebuah toko kredit di Mall"
      ],
      "metadata": {
        "id": "TEU2IzNXi0sN"
      }
    },
    {
      "cell_type": "code",
      "metadata": {
        "id": "W3_MYofJ66ul",
        "colab": {
          "base_uri": "https://localhost:8080/",
          "height": 455
        },
        "outputId": "b6f5d45a-a57b-4f3d-c2a9-be2d1e06119d"
      },
      "source": [
        "data = pd.read_csv('https://raw.githubusercontent.com/halimahsitti/StudiIndependen/main/DataSet/Mall_Customers.csv', index_col='CustomerID')\n",
        "data"
      ],
      "execution_count": 4,
      "outputs": [
        {
          "output_type": "execute_result",
          "data": {
            "text/plain": [
              "             Genre  Age  Annual Income (k$)  Spending Score (1-100)\n",
              "CustomerID                                                         \n",
              "1             Male   19                  15                      39\n",
              "2             Male   21                  15                      81\n",
              "3           Female   20                  16                       6\n",
              "4           Female   23                  16                      77\n",
              "5           Female   31                  17                      40\n",
              "...            ...  ...                 ...                     ...\n",
              "196         Female   35                 120                      79\n",
              "197         Female   45                 126                      28\n",
              "198           Male   32                 126                      74\n",
              "199           Male   32                 137                      18\n",
              "200           Male   30                 137                      83\n",
              "\n",
              "[200 rows x 4 columns]"
            ],
            "text/html": [
              "\n",
              "  <div id=\"df-2e3ff7da-5a0c-4adb-84e0-41a3f95c5f94\">\n",
              "    <div class=\"colab-df-container\">\n",
              "      <div>\n",
              "<style scoped>\n",
              "    .dataframe tbody tr th:only-of-type {\n",
              "        vertical-align: middle;\n",
              "    }\n",
              "\n",
              "    .dataframe tbody tr th {\n",
              "        vertical-align: top;\n",
              "    }\n",
              "\n",
              "    .dataframe thead th {\n",
              "        text-align: right;\n",
              "    }\n",
              "</style>\n",
              "<table border=\"1\" class=\"dataframe\">\n",
              "  <thead>\n",
              "    <tr style=\"text-align: right;\">\n",
              "      <th></th>\n",
              "      <th>Genre</th>\n",
              "      <th>Age</th>\n",
              "      <th>Annual Income (k$)</th>\n",
              "      <th>Spending Score (1-100)</th>\n",
              "    </tr>\n",
              "    <tr>\n",
              "      <th>CustomerID</th>\n",
              "      <th></th>\n",
              "      <th></th>\n",
              "      <th></th>\n",
              "      <th></th>\n",
              "    </tr>\n",
              "  </thead>\n",
              "  <tbody>\n",
              "    <tr>\n",
              "      <th>1</th>\n",
              "      <td>Male</td>\n",
              "      <td>19</td>\n",
              "      <td>15</td>\n",
              "      <td>39</td>\n",
              "    </tr>\n",
              "    <tr>\n",
              "      <th>2</th>\n",
              "      <td>Male</td>\n",
              "      <td>21</td>\n",
              "      <td>15</td>\n",
              "      <td>81</td>\n",
              "    </tr>\n",
              "    <tr>\n",
              "      <th>3</th>\n",
              "      <td>Female</td>\n",
              "      <td>20</td>\n",
              "      <td>16</td>\n",
              "      <td>6</td>\n",
              "    </tr>\n",
              "    <tr>\n",
              "      <th>4</th>\n",
              "      <td>Female</td>\n",
              "      <td>23</td>\n",
              "      <td>16</td>\n",
              "      <td>77</td>\n",
              "    </tr>\n",
              "    <tr>\n",
              "      <th>5</th>\n",
              "      <td>Female</td>\n",
              "      <td>31</td>\n",
              "      <td>17</td>\n",
              "      <td>40</td>\n",
              "    </tr>\n",
              "    <tr>\n",
              "      <th>...</th>\n",
              "      <td>...</td>\n",
              "      <td>...</td>\n",
              "      <td>...</td>\n",
              "      <td>...</td>\n",
              "    </tr>\n",
              "    <tr>\n",
              "      <th>196</th>\n",
              "      <td>Female</td>\n",
              "      <td>35</td>\n",
              "      <td>120</td>\n",
              "      <td>79</td>\n",
              "    </tr>\n",
              "    <tr>\n",
              "      <th>197</th>\n",
              "      <td>Female</td>\n",
              "      <td>45</td>\n",
              "      <td>126</td>\n",
              "      <td>28</td>\n",
              "    </tr>\n",
              "    <tr>\n",
              "      <th>198</th>\n",
              "      <td>Male</td>\n",
              "      <td>32</td>\n",
              "      <td>126</td>\n",
              "      <td>74</td>\n",
              "    </tr>\n",
              "    <tr>\n",
              "      <th>199</th>\n",
              "      <td>Male</td>\n",
              "      <td>32</td>\n",
              "      <td>137</td>\n",
              "      <td>18</td>\n",
              "    </tr>\n",
              "    <tr>\n",
              "      <th>200</th>\n",
              "      <td>Male</td>\n",
              "      <td>30</td>\n",
              "      <td>137</td>\n",
              "      <td>83</td>\n",
              "    </tr>\n",
              "  </tbody>\n",
              "</table>\n",
              "<p>200 rows × 4 columns</p>\n",
              "</div>\n",
              "      <button class=\"colab-df-convert\" onclick=\"convertToInteractive('df-2e3ff7da-5a0c-4adb-84e0-41a3f95c5f94')\"\n",
              "              title=\"Convert this dataframe to an interactive table.\"\n",
              "              style=\"display:none;\">\n",
              "        \n",
              "  <svg xmlns=\"http://www.w3.org/2000/svg\" height=\"24px\"viewBox=\"0 0 24 24\"\n",
              "       width=\"24px\">\n",
              "    <path d=\"M0 0h24v24H0V0z\" fill=\"none\"/>\n",
              "    <path d=\"M18.56 5.44l.94 2.06.94-2.06 2.06-.94-2.06-.94-.94-2.06-.94 2.06-2.06.94zm-11 1L8.5 8.5l.94-2.06 2.06-.94-2.06-.94L8.5 2.5l-.94 2.06-2.06.94zm10 10l.94 2.06.94-2.06 2.06-.94-2.06-.94-.94-2.06-.94 2.06-2.06.94z\"/><path d=\"M17.41 7.96l-1.37-1.37c-.4-.4-.92-.59-1.43-.59-.52 0-1.04.2-1.43.59L10.3 9.45l-7.72 7.72c-.78.78-.78 2.05 0 2.83L4 21.41c.39.39.9.59 1.41.59.51 0 1.02-.2 1.41-.59l7.78-7.78 2.81-2.81c.8-.78.8-2.07 0-2.86zM5.41 20L4 18.59l7.72-7.72 1.47 1.35L5.41 20z\"/>\n",
              "  </svg>\n",
              "      </button>\n",
              "      \n",
              "  <style>\n",
              "    .colab-df-container {\n",
              "      display:flex;\n",
              "      flex-wrap:wrap;\n",
              "      gap: 12px;\n",
              "    }\n",
              "\n",
              "    .colab-df-convert {\n",
              "      background-color: #E8F0FE;\n",
              "      border: none;\n",
              "      border-radius: 50%;\n",
              "      cursor: pointer;\n",
              "      display: none;\n",
              "      fill: #1967D2;\n",
              "      height: 32px;\n",
              "      padding: 0 0 0 0;\n",
              "      width: 32px;\n",
              "    }\n",
              "\n",
              "    .colab-df-convert:hover {\n",
              "      background-color: #E2EBFA;\n",
              "      box-shadow: 0px 1px 2px rgba(60, 64, 67, 0.3), 0px 1px 3px 1px rgba(60, 64, 67, 0.15);\n",
              "      fill: #174EA6;\n",
              "    }\n",
              "\n",
              "    [theme=dark] .colab-df-convert {\n",
              "      background-color: #3B4455;\n",
              "      fill: #D2E3FC;\n",
              "    }\n",
              "\n",
              "    [theme=dark] .colab-df-convert:hover {\n",
              "      background-color: #434B5C;\n",
              "      box-shadow: 0px 1px 3px 1px rgba(0, 0, 0, 0.15);\n",
              "      filter: drop-shadow(0px 1px 2px rgba(0, 0, 0, 0.3));\n",
              "      fill: #FFFFFF;\n",
              "    }\n",
              "  </style>\n",
              "\n",
              "      <script>\n",
              "        const buttonEl =\n",
              "          document.querySelector('#df-2e3ff7da-5a0c-4adb-84e0-41a3f95c5f94 button.colab-df-convert');\n",
              "        buttonEl.style.display =\n",
              "          google.colab.kernel.accessAllowed ? 'block' : 'none';\n",
              "\n",
              "        async function convertToInteractive(key) {\n",
              "          const element = document.querySelector('#df-2e3ff7da-5a0c-4adb-84e0-41a3f95c5f94');\n",
              "          const dataTable =\n",
              "            await google.colab.kernel.invokeFunction('convertToInteractive',\n",
              "                                                     [key], {});\n",
              "          if (!dataTable) return;\n",
              "\n",
              "          const docLinkHtml = 'Like what you see? Visit the ' +\n",
              "            '<a target=\"_blank\" href=https://colab.research.google.com/notebooks/data_table.ipynb>data table notebook</a>'\n",
              "            + ' to learn more about interactive tables.';\n",
              "          element.innerHTML = '';\n",
              "          dataTable['output_type'] = 'display_data';\n",
              "          await google.colab.output.renderOutput(dataTable, element);\n",
              "          const docLink = document.createElement('div');\n",
              "          docLink.innerHTML = docLinkHtml;\n",
              "          element.appendChild(docLink);\n",
              "        }\n",
              "      </script>\n",
              "    </div>\n",
              "  </div>\n",
              "  "
            ]
          },
          "metadata": {},
          "execution_count": 4
        }
      ]
    },
    {
      "cell_type": "code",
      "source": [
        "data.info()"
      ],
      "metadata": {
        "id": "OnFOKxcWKoft",
        "colab": {
          "base_uri": "https://localhost:8080/"
        },
        "outputId": "f54019ad-689e-4f8c-d783-c326b156262c"
      },
      "execution_count": 5,
      "outputs": [
        {
          "output_type": "stream",
          "name": "stdout",
          "text": [
            "<class 'pandas.core.frame.DataFrame'>\n",
            "Int64Index: 200 entries, 1 to 200\n",
            "Data columns (total 4 columns):\n",
            " #   Column                  Non-Null Count  Dtype \n",
            "---  ------                  --------------  ----- \n",
            " 0   Genre                   200 non-null    object\n",
            " 1   Age                     200 non-null    int64 \n",
            " 2   Annual Income (k$)      200 non-null    int64 \n",
            " 3   Spending Score (1-100)  200 non-null    int64 \n",
            "dtypes: int64(3), object(1)\n",
            "memory usage: 7.8+ KB\n"
          ]
        }
      ]
    },
    {
      "cell_type": "markdown",
      "source": [
        "Untuk saat ini kita pilih data angka saja"
      ],
      "metadata": {
        "id": "-dbSo5hphr3k"
      }
    },
    {
      "cell_type": "code",
      "metadata": {
        "id": "65741eLs66um",
        "colab": {
          "base_uri": "https://localhost:8080/"
        },
        "outputId": "42179bff-0096-42ca-e7f0-291196afb971"
      },
      "source": [
        "#Mengambil data dari dataframe untuk dijadikan vektor\n",
        "X = data[['Annual Income (k$)', 'Spending Score (1-100)']].values\n",
        "X"
      ],
      "execution_count": 6,
      "outputs": [
        {
          "output_type": "execute_result",
          "data": {
            "text/plain": [
              "array([[ 15,  39],\n",
              "       [ 15,  81],\n",
              "       [ 16,   6],\n",
              "       [ 16,  77],\n",
              "       [ 17,  40],\n",
              "       [ 17,  76],\n",
              "       [ 18,   6],\n",
              "       [ 18,  94],\n",
              "       [ 19,   3],\n",
              "       [ 19,  72],\n",
              "       [ 19,  14],\n",
              "       [ 19,  99],\n",
              "       [ 20,  15],\n",
              "       [ 20,  77],\n",
              "       [ 20,  13],\n",
              "       [ 20,  79],\n",
              "       [ 21,  35],\n",
              "       [ 21,  66],\n",
              "       [ 23,  29],\n",
              "       [ 23,  98],\n",
              "       [ 24,  35],\n",
              "       [ 24,  73],\n",
              "       [ 25,   5],\n",
              "       [ 25,  73],\n",
              "       [ 28,  14],\n",
              "       [ 28,  82],\n",
              "       [ 28,  32],\n",
              "       [ 28,  61],\n",
              "       [ 29,  31],\n",
              "       [ 29,  87],\n",
              "       [ 30,   4],\n",
              "       [ 30,  73],\n",
              "       [ 33,   4],\n",
              "       [ 33,  92],\n",
              "       [ 33,  14],\n",
              "       [ 33,  81],\n",
              "       [ 34,  17],\n",
              "       [ 34,  73],\n",
              "       [ 37,  26],\n",
              "       [ 37,  75],\n",
              "       [ 38,  35],\n",
              "       [ 38,  92],\n",
              "       [ 39,  36],\n",
              "       [ 39,  61],\n",
              "       [ 39,  28],\n",
              "       [ 39,  65],\n",
              "       [ 40,  55],\n",
              "       [ 40,  47],\n",
              "       [ 40,  42],\n",
              "       [ 40,  42],\n",
              "       [ 42,  52],\n",
              "       [ 42,  60],\n",
              "       [ 43,  54],\n",
              "       [ 43,  60],\n",
              "       [ 43,  45],\n",
              "       [ 43,  41],\n",
              "       [ 44,  50],\n",
              "       [ 44,  46],\n",
              "       [ 46,  51],\n",
              "       [ 46,  46],\n",
              "       [ 46,  56],\n",
              "       [ 46,  55],\n",
              "       [ 47,  52],\n",
              "       [ 47,  59],\n",
              "       [ 48,  51],\n",
              "       [ 48,  59],\n",
              "       [ 48,  50],\n",
              "       [ 48,  48],\n",
              "       [ 48,  59],\n",
              "       [ 48,  47],\n",
              "       [ 49,  55],\n",
              "       [ 49,  42],\n",
              "       [ 50,  49],\n",
              "       [ 50,  56],\n",
              "       [ 54,  47],\n",
              "       [ 54,  54],\n",
              "       [ 54,  53],\n",
              "       [ 54,  48],\n",
              "       [ 54,  52],\n",
              "       [ 54,  42],\n",
              "       [ 54,  51],\n",
              "       [ 54,  55],\n",
              "       [ 54,  41],\n",
              "       [ 54,  44],\n",
              "       [ 54,  57],\n",
              "       [ 54,  46],\n",
              "       [ 57,  58],\n",
              "       [ 57,  55],\n",
              "       [ 58,  60],\n",
              "       [ 58,  46],\n",
              "       [ 59,  55],\n",
              "       [ 59,  41],\n",
              "       [ 60,  49],\n",
              "       [ 60,  40],\n",
              "       [ 60,  42],\n",
              "       [ 60,  52],\n",
              "       [ 60,  47],\n",
              "       [ 60,  50],\n",
              "       [ 61,  42],\n",
              "       [ 61,  49],\n",
              "       [ 62,  41],\n",
              "       [ 62,  48],\n",
              "       [ 62,  59],\n",
              "       [ 62,  55],\n",
              "       [ 62,  56],\n",
              "       [ 62,  42],\n",
              "       [ 63,  50],\n",
              "       [ 63,  46],\n",
              "       [ 63,  43],\n",
              "       [ 63,  48],\n",
              "       [ 63,  52],\n",
              "       [ 63,  54],\n",
              "       [ 64,  42],\n",
              "       [ 64,  46],\n",
              "       [ 65,  48],\n",
              "       [ 65,  50],\n",
              "       [ 65,  43],\n",
              "       [ 65,  59],\n",
              "       [ 67,  43],\n",
              "       [ 67,  57],\n",
              "       [ 67,  56],\n",
              "       [ 67,  40],\n",
              "       [ 69,  58],\n",
              "       [ 69,  91],\n",
              "       [ 70,  29],\n",
              "       [ 70,  77],\n",
              "       [ 71,  35],\n",
              "       [ 71,  95],\n",
              "       [ 71,  11],\n",
              "       [ 71,  75],\n",
              "       [ 71,   9],\n",
              "       [ 71,  75],\n",
              "       [ 72,  34],\n",
              "       [ 72,  71],\n",
              "       [ 73,   5],\n",
              "       [ 73,  88],\n",
              "       [ 73,   7],\n",
              "       [ 73,  73],\n",
              "       [ 74,  10],\n",
              "       [ 74,  72],\n",
              "       [ 75,   5],\n",
              "       [ 75,  93],\n",
              "       [ 76,  40],\n",
              "       [ 76,  87],\n",
              "       [ 77,  12],\n",
              "       [ 77,  97],\n",
              "       [ 77,  36],\n",
              "       [ 77,  74],\n",
              "       [ 78,  22],\n",
              "       [ 78,  90],\n",
              "       [ 78,  17],\n",
              "       [ 78,  88],\n",
              "       [ 78,  20],\n",
              "       [ 78,  76],\n",
              "       [ 78,  16],\n",
              "       [ 78,  89],\n",
              "       [ 78,   1],\n",
              "       [ 78,  78],\n",
              "       [ 78,   1],\n",
              "       [ 78,  73],\n",
              "       [ 79,  35],\n",
              "       [ 79,  83],\n",
              "       [ 81,   5],\n",
              "       [ 81,  93],\n",
              "       [ 85,  26],\n",
              "       [ 85,  75],\n",
              "       [ 86,  20],\n",
              "       [ 86,  95],\n",
              "       [ 87,  27],\n",
              "       [ 87,  63],\n",
              "       [ 87,  13],\n",
              "       [ 87,  75],\n",
              "       [ 87,  10],\n",
              "       [ 87,  92],\n",
              "       [ 88,  13],\n",
              "       [ 88,  86],\n",
              "       [ 88,  15],\n",
              "       [ 88,  69],\n",
              "       [ 93,  14],\n",
              "       [ 93,  90],\n",
              "       [ 97,  32],\n",
              "       [ 97,  86],\n",
              "       [ 98,  15],\n",
              "       [ 98,  88],\n",
              "       [ 99,  39],\n",
              "       [ 99,  97],\n",
              "       [101,  24],\n",
              "       [101,  68],\n",
              "       [103,  17],\n",
              "       [103,  85],\n",
              "       [103,  23],\n",
              "       [103,  69],\n",
              "       [113,   8],\n",
              "       [113,  91],\n",
              "       [120,  16],\n",
              "       [120,  79],\n",
              "       [126,  28],\n",
              "       [126,  74],\n",
              "       [137,  18],\n",
              "       [137,  83]])"
            ]
          },
          "metadata": {},
          "execution_count": 6
        }
      ]
    },
    {
      "cell_type": "code",
      "source": [
        "#Karena standar besar/kecil di kedua variabel berbeda, maka kita standarisasi dulu\n",
        "#penjelasan detail akan dibahas di minggu selanjutnya\n",
        "X = StandardScaler().fit_transform(X)\n",
        "X"
      ],
      "metadata": {
        "id": "nHCpXry-LX_F",
        "colab": {
          "base_uri": "https://localhost:8080/"
        },
        "outputId": "45c68d77-491e-4cdd-f31d-7bf8b3b36a8a"
      },
      "execution_count": 7,
      "outputs": [
        {
          "output_type": "execute_result",
          "data": {
            "text/plain": [
              "array([[-1.73899919, -0.43480148],\n",
              "       [-1.73899919,  1.19570407],\n",
              "       [-1.70082976, -1.71591298],\n",
              "       [-1.70082976,  1.04041783],\n",
              "       [-1.66266033, -0.39597992],\n",
              "       [-1.66266033,  1.00159627],\n",
              "       [-1.62449091, -1.71591298],\n",
              "       [-1.62449091,  1.70038436],\n",
              "       [-1.58632148, -1.83237767],\n",
              "       [-1.58632148,  0.84631002],\n",
              "       [-1.58632148, -1.4053405 ],\n",
              "       [-1.58632148,  1.89449216],\n",
              "       [-1.54815205, -1.36651894],\n",
              "       [-1.54815205,  1.04041783],\n",
              "       [-1.54815205, -1.44416206],\n",
              "       [-1.54815205,  1.11806095],\n",
              "       [-1.50998262, -0.59008772],\n",
              "       [-1.50998262,  0.61338066],\n",
              "       [-1.43364376, -0.82301709],\n",
              "       [-1.43364376,  1.8556706 ],\n",
              "       [-1.39547433, -0.59008772],\n",
              "       [-1.39547433,  0.88513158],\n",
              "       [-1.3573049 , -1.75473454],\n",
              "       [-1.3573049 ,  0.88513158],\n",
              "       [-1.24279661, -1.4053405 ],\n",
              "       [-1.24279661,  1.23452563],\n",
              "       [-1.24279661, -0.7065524 ],\n",
              "       [-1.24279661,  0.41927286],\n",
              "       [-1.20462718, -0.74537397],\n",
              "       [-1.20462718,  1.42863343],\n",
              "       [-1.16645776, -1.7935561 ],\n",
              "       [-1.16645776,  0.88513158],\n",
              "       [-1.05194947, -1.7935561 ],\n",
              "       [-1.05194947,  1.62274124],\n",
              "       [-1.05194947, -1.4053405 ],\n",
              "       [-1.05194947,  1.19570407],\n",
              "       [-1.01378004, -1.28887582],\n",
              "       [-1.01378004,  0.88513158],\n",
              "       [-0.89927175, -0.93948177],\n",
              "       [-0.89927175,  0.96277471],\n",
              "       [-0.86110232, -0.59008772],\n",
              "       [-0.86110232,  1.62274124],\n",
              "       [-0.82293289, -0.55126616],\n",
              "       [-0.82293289,  0.41927286],\n",
              "       [-0.82293289, -0.86183865],\n",
              "       [-0.82293289,  0.5745591 ],\n",
              "       [-0.78476346,  0.18634349],\n",
              "       [-0.78476346, -0.12422899],\n",
              "       [-0.78476346, -0.3183368 ],\n",
              "       [-0.78476346, -0.3183368 ],\n",
              "       [-0.70842461,  0.06987881],\n",
              "       [-0.70842461,  0.38045129],\n",
              "       [-0.67025518,  0.14752193],\n",
              "       [-0.67025518,  0.38045129],\n",
              "       [-0.67025518, -0.20187212],\n",
              "       [-0.67025518, -0.35715836],\n",
              "       [-0.63208575, -0.00776431],\n",
              "       [-0.63208575, -0.16305055],\n",
              "       [-0.55574689,  0.03105725],\n",
              "       [-0.55574689, -0.16305055],\n",
              "       [-0.55574689,  0.22516505],\n",
              "       [-0.55574689,  0.18634349],\n",
              "       [-0.51757746,  0.06987881],\n",
              "       [-0.51757746,  0.34162973],\n",
              "       [-0.47940803,  0.03105725],\n",
              "       [-0.47940803,  0.34162973],\n",
              "       [-0.47940803, -0.00776431],\n",
              "       [-0.47940803, -0.08540743],\n",
              "       [-0.47940803,  0.34162973],\n",
              "       [-0.47940803, -0.12422899],\n",
              "       [-0.4412386 ,  0.18634349],\n",
              "       [-0.4412386 , -0.3183368 ],\n",
              "       [-0.40306917, -0.04658587],\n",
              "       [-0.40306917,  0.22516505],\n",
              "       [-0.25039146, -0.12422899],\n",
              "       [-0.25039146,  0.14752193],\n",
              "       [-0.25039146,  0.10870037],\n",
              "       [-0.25039146, -0.08540743],\n",
              "       [-0.25039146,  0.06987881],\n",
              "       [-0.25039146, -0.3183368 ],\n",
              "       [-0.25039146,  0.03105725],\n",
              "       [-0.25039146,  0.18634349],\n",
              "       [-0.25039146, -0.35715836],\n",
              "       [-0.25039146, -0.24069368],\n",
              "       [-0.25039146,  0.26398661],\n",
              "       [-0.25039146, -0.16305055],\n",
              "       [-0.13588317,  0.30280817],\n",
              "       [-0.13588317,  0.18634349],\n",
              "       [-0.09771374,  0.38045129],\n",
              "       [-0.09771374, -0.16305055],\n",
              "       [-0.05954431,  0.18634349],\n",
              "       [-0.05954431, -0.35715836],\n",
              "       [-0.02137488, -0.04658587],\n",
              "       [-0.02137488, -0.39597992],\n",
              "       [-0.02137488, -0.3183368 ],\n",
              "       [-0.02137488,  0.06987881],\n",
              "       [-0.02137488, -0.12422899],\n",
              "       [-0.02137488, -0.00776431],\n",
              "       [ 0.01679455, -0.3183368 ],\n",
              "       [ 0.01679455, -0.04658587],\n",
              "       [ 0.05496398, -0.35715836],\n",
              "       [ 0.05496398, -0.08540743],\n",
              "       [ 0.05496398,  0.34162973],\n",
              "       [ 0.05496398,  0.18634349],\n",
              "       [ 0.05496398,  0.22516505],\n",
              "       [ 0.05496398, -0.3183368 ],\n",
              "       [ 0.09313341, -0.00776431],\n",
              "       [ 0.09313341, -0.16305055],\n",
              "       [ 0.09313341, -0.27951524],\n",
              "       [ 0.09313341, -0.08540743],\n",
              "       [ 0.09313341,  0.06987881],\n",
              "       [ 0.09313341,  0.14752193],\n",
              "       [ 0.13130284, -0.3183368 ],\n",
              "       [ 0.13130284, -0.16305055],\n",
              "       [ 0.16947227, -0.08540743],\n",
              "       [ 0.16947227, -0.00776431],\n",
              "       [ 0.16947227, -0.27951524],\n",
              "       [ 0.16947227,  0.34162973],\n",
              "       [ 0.24581112, -0.27951524],\n",
              "       [ 0.24581112,  0.26398661],\n",
              "       [ 0.24581112,  0.22516505],\n",
              "       [ 0.24581112, -0.39597992],\n",
              "       [ 0.32214998,  0.30280817],\n",
              "       [ 0.32214998,  1.58391968],\n",
              "       [ 0.36031941, -0.82301709],\n",
              "       [ 0.36031941,  1.04041783],\n",
              "       [ 0.39848884, -0.59008772],\n",
              "       [ 0.39848884,  1.73920592],\n",
              "       [ 0.39848884, -1.52180518],\n",
              "       [ 0.39848884,  0.96277471],\n",
              "       [ 0.39848884, -1.5994483 ],\n",
              "       [ 0.39848884,  0.96277471],\n",
              "       [ 0.43665827, -0.62890928],\n",
              "       [ 0.43665827,  0.80748846],\n",
              "       [ 0.4748277 , -1.75473454],\n",
              "       [ 0.4748277 ,  1.46745499],\n",
              "       [ 0.4748277 , -1.67709142],\n",
              "       [ 0.4748277 ,  0.88513158],\n",
              "       [ 0.51299713, -1.56062674],\n",
              "       [ 0.51299713,  0.84631002],\n",
              "       [ 0.55116656, -1.75473454],\n",
              "       [ 0.55116656,  1.6615628 ],\n",
              "       [ 0.58933599, -0.39597992],\n",
              "       [ 0.58933599,  1.42863343],\n",
              "       [ 0.62750542, -1.48298362],\n",
              "       [ 0.62750542,  1.81684904],\n",
              "       [ 0.62750542, -0.55126616],\n",
              "       [ 0.62750542,  0.92395314],\n",
              "       [ 0.66567484, -1.09476801],\n",
              "       [ 0.66567484,  1.54509812],\n",
              "       [ 0.66567484, -1.28887582],\n",
              "       [ 0.66567484,  1.46745499],\n",
              "       [ 0.66567484, -1.17241113],\n",
              "       [ 0.66567484,  1.00159627],\n",
              "       [ 0.66567484, -1.32769738],\n",
              "       [ 0.66567484,  1.50627656],\n",
              "       [ 0.66567484, -1.91002079],\n",
              "       [ 0.66567484,  1.07923939],\n",
              "       [ 0.66567484, -1.91002079],\n",
              "       [ 0.66567484,  0.88513158],\n",
              "       [ 0.70384427, -0.59008772],\n",
              "       [ 0.70384427,  1.27334719],\n",
              "       [ 0.78018313, -1.75473454],\n",
              "       [ 0.78018313,  1.6615628 ],\n",
              "       [ 0.93286085, -0.93948177],\n",
              "       [ 0.93286085,  0.96277471],\n",
              "       [ 0.97103028, -1.17241113],\n",
              "       [ 0.97103028,  1.73920592],\n",
              "       [ 1.00919971, -0.90066021],\n",
              "       [ 1.00919971,  0.49691598],\n",
              "       [ 1.00919971, -1.44416206],\n",
              "       [ 1.00919971,  0.96277471],\n",
              "       [ 1.00919971, -1.56062674],\n",
              "       [ 1.00919971,  1.62274124],\n",
              "       [ 1.04736914, -1.44416206],\n",
              "       [ 1.04736914,  1.38981187],\n",
              "       [ 1.04736914, -1.36651894],\n",
              "       [ 1.04736914,  0.72984534],\n",
              "       [ 1.23821628, -1.4053405 ],\n",
              "       [ 1.23821628,  1.54509812],\n",
              "       [ 1.390894  , -0.7065524 ],\n",
              "       [ 1.390894  ,  1.38981187],\n",
              "       [ 1.42906343, -1.36651894],\n",
              "       [ 1.42906343,  1.46745499],\n",
              "       [ 1.46723286, -0.43480148],\n",
              "       [ 1.46723286,  1.81684904],\n",
              "       [ 1.54357172, -1.01712489],\n",
              "       [ 1.54357172,  0.69102378],\n",
              "       [ 1.61991057, -1.28887582],\n",
              "       [ 1.61991057,  1.35099031],\n",
              "       [ 1.61991057, -1.05594645],\n",
              "       [ 1.61991057,  0.72984534],\n",
              "       [ 2.00160487, -1.63826986],\n",
              "       [ 2.00160487,  1.58391968],\n",
              "       [ 2.26879087, -1.32769738],\n",
              "       [ 2.26879087,  1.11806095],\n",
              "       [ 2.49780745, -0.86183865],\n",
              "       [ 2.49780745,  0.92395314],\n",
              "       [ 2.91767117, -1.25005425],\n",
              "       [ 2.91767117,  1.27334719]])"
            ]
          },
          "metadata": {},
          "execution_count": 7
        }
      ]
    },
    {
      "cell_type": "markdown",
      "source": [
        "## Tugas 1 :Membuat Dendogram\n",
        "pilih metode linkage = complete, buat dendogram seperti ini :\n",
        "\n",
        "\n",
        "![image.png](data:image/png;base64,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)"
      ],
      "metadata": {
        "id": "uFJAXdAmkvUH"
      }
    },
    {
      "cell_type": "code",
      "metadata": {
        "id": "FjUvYyRw66um"
      },
      "source": [
        "#Membuat Dendogram\n",
        "#Type Your Code Here\n"
      ],
      "execution_count": 8,
      "outputs": []
    },
    {
      "cell_type": "markdown",
      "source": [
        "Terlihat bahwa garis cluster terpanjang saat cluster jumlah cluster = 7 atau 2\n",
        "\n",
        " ![image.png](data:image/png;base64,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)"
      ],
      "metadata": {
        "id": "yh-vX8cda6VP"
      }
    },
    {
      "cell_type": "markdown",
      "source": [
        "## Tugas 2 :    Membuat model Agglomerative Clustering\n",
        "\n",
        "![image.png](data:image/png;base64,iVBORw0KGgoAAAANSUhEUgAAAw0AAAB2CAYAAACK7H9/AAAgAElEQVR4nO2dXWgdZ5rn/1nmog+BNVmTHDeiTYF1kSYGoxars5kwo+qOYd30QFki+BwIGxUMM525SIRokoN3FvEiZhCV0AhNLsY9e7GlXgI6ptFxLdPEF/F0qZcQSosiDM7GFzIUDqJ1YkwwS1N9l72or7fqnKpT50vnyP7/wGCd+nrr/Xye9/m/bz3ned53IIQQQgghE83h4SGmp6fHnQzyjPLvxp0AQgghhBBCyGRDp4EQQgghhBCSC50GQgghhBBCSC4T6DQ4MIwaGsfjTseoaaFxowTjbsGzP62hZJT8fw1ntEnrCQdGmK6nsNzCfC9aTifB5NaFE+S4gZph4Bl9+4I83W1zsgny/sTap/+8SeqnQgr1V8cN1Irk16lt972N96eWsByNEkoTVk5OoxTVw9qnrY7n9DfeT27bGwW5ToPTCDMiZcjfNVIZ6zeI0o0GOhfFZOE0sitNNh3esS0fRkf58ja8ugd3Vuv7HmGjGW56K6jXPXh1G2KYtz0RJrkjlw2+ZH0dRl3IfXJf7YNMHiNum6fRgAv67LZ/z6rzfQKMur8iE8S5KrbrHrwlE/2V9ujG5ErVg1f3YCvDv/ezxJ/lH9aglMP/z0A55/+v9egA2hkNB49aAMrAsY0mtD4ryWnBhftEg3bGhQugDMC5fwDtzLjTVRQHtitgXwHU+w7qlyrjTtCpoHx5G97lE37ocQO1LR2YdeFd9htg61MDjeM6qudOOC2EPE1cqsO7VJd+aKFxQ0Hz7LAtCd9hq3c/kQCBsVkddyrIM85YxvtTRudIQzAbo7oW9K0SSoYKAQFVnvGcXsDMoY0WgNY9FwuvLgBPfINavkdbaPyugVKj4c/aGzU07gbhrHSUoiWFudKz+4lz2+VMiXCodCz8XXUBa1/pY5ZpBgvTB7CD6IuNFay8gMB5CtMizV61RV7k4wr0J8m7J9M95Bm8uzbEGQXKJRXCtdvuLYfu2ma3EyHH3tOXvHevdSF7xj2qC3L6EmUZRIc6lIefJr8MxO1O98+TdnQKR6Z/y0l3t/za1WEpNrYvRx47ypcLOgw9t484zcXaR857RTPP0jnDjD7KfcqWDit1OLv9tNC4UUPjWE57sv6m8yT93ll9SpF7d32nhpO4f69RnqzyLHSdXLZtkYNU+4mOBe+6pcMKxoVO7SSvPwujWfI5Y4n4HdtoPhFYkdpa/6T6/05jSyrSkXjnAfqz9vfKGFczSd27rc0ny7Y9GplVV7rTVTbSd7vvkK60LTFg2+vyZrnjfXZdGLBPie6RXR59j8kD51l2Pes+Jo/SRsqXcrY+raH2aSuRb5n9Vae2l9fu0cX+ym2bJ09np+FSPQhpC9h1D94VAZwx4dY9yZBRob7QhH3cgv1YgSr3uccN1G4fwFzyw0HelRnoW1IBuzrcVz3YigX9touVug3xpAk7Kqjwdw9e3YUJHctFK+ZxAyY2/efWPbizgH7LL7wwTGorgDbrRud41eKz7srFBRzcd4C7NvCyfF0LjRsqDqL7+ulWogLucFyOUtw1oOzP+Pld9+DOHkAdosHl3BfQplWUoUA5IwLHJ3626gZlHaYrMlpbaNwKZr3DugAN5lIdRXKt9WkN6rd+3YnKo3BdSOeZjZl9JdngnuhQtoK6smRCczckJ9EErnqJ8gjrkR+q9N9VXPGiuhDX7zxpRwWqAoj7ssHl4gAC6qWC6c7Ege0C4uURRYKOG1iW6plX91C/5B/q3j6KvJeAamxAWQry7okOcxjGYLpPSYe/u7YfC/pWmC4X5hmBDckpXt5HdG9bgd/fhe+d06d0vXcRXBXK45WofVn7ZuHBsPVpLfHecnkOSuvTZegv2HE9qIdtPmgbSya0cIyoe/Dq27FjW6A/s/aV6L3dWQ3i85OXtzq7OjCrF+rLuhP2GVkyCAfGfTXOzysC4nbK8OmzP0sQRCpnrnjw3q6iiDvkNBSprF2Y36o9GIN+tKZzXelOrmxkwHbfNc8GaHv5dBnvu9aFQfqU/PIYbExGMs+WTGB/ufB6qbx61nVMHqmN1F3Kae0r2Djr5vdXHdtel7LOtb8GbZvDp9BC6NajA+AFJep83Me+r195eQbNXRPuWTXRMbXuNYHZzXgAuaTDlA3VMyb0YGDTOnbYslFahjqtwQqiGl05V0VdnqG9uABNjoD0y7GLAwA4p2LhWxvGfQQGYsBdE3pixqqM6lUTWjirf9eEDhObGTNazn0BcSVu2OXLKylHahAc2K6GhYtlhPkpG7zOfQEoaiK/8a3r5/exjeaT8FoAl1QIWHALFYYDc9+CeDUeuMqXN4vXhWMbzUSeVaDPJtOeqCvnVCycidOWnJ0P6tHjgWuCn5J5qWwR1vkg/YXSPU5STmNRCr6XuBIaj75zFUfi+sc37jYzoy1F2k+crmRdaN1rwjqzADW4d+VlkYyaFuhTsu5dCNlBuaRC4ABuoXYftK8rxQ20nukQlSxCof5Meu9e+ulOs3J9LfQ+bmDDHVaUoQgV1OUJqo5lPWB/9ig2Woo7j4F0NUpbGdVXRfExNxj77B4m3wqnbMB23zXP+m57Xegy3hepC333KbnlMeCYHByP8ixVR/MZrJ6N1kYqgGTId+yvMtteflnn2l+Dts0R0HFNg9PwJQoAACP0uyyUDAG7Lqk0L6mYub0BZb4OnFMwE2Sh+9iC5Voo7Sfv2+9ivPKLM8Bh0bMDLzsRChRY6fPZHVIDdfrA97QBtM5K8x5nFPSnjG3B/dYPyYnb8u8azEGSGnLXhjizADfoPMsXF6Bt2XBQQQWAclYD9sO/W7APLWjTm36nck7BDCw077VQPVf27wUBu/CAJK+L6ZGWC+uJgGXoyd8VqTQlYw8oo/q2Fx8LvH4r69pBOKdi4YwC+24dlUst2IfAwtVy8XSPi3NVbF9xUQrr2hkTbsHZyGLvJRLOdKXqYXvwVHdL2EDtp/ziDLDfhH1cRfVc2Inb0mA56j6lT45dHEDDwohs3vLlbdiPS1CDMUCbdROSuWyKlYcf+Qw4V8V2wQUAlaoHr/tpXYlkgEO4V+FnymMrgLY6OmB/JvZ1AAIrvUSbgiipMFIj9Jlio0/r0QFwZqHPsW8QCtSzUY4BA9K1LvRJ9/IYYEzOIFrfmsdA9WzENtIQyGt7eWWda38N2DZHQUenoVL14N01UPpcgft2FW6jhI2z8YDhAJh50Z+1rtflLtf3nhTkDDB9zHD6kQ61eJgVJtx6YAgdN1DbGs7scugUlC9vJwYt67ELvIhodjJKZ8uFBRQ2LkRPs0PFce4L4AmgpIy9mbt1VC4FRhNEZBzgjAk3KjsFyhlA7CuREyiueD3MbAazENFA6MJNazvz6MWoTeDAaFtMXIPyuOcbZeDPCCj3HdTLLppYwKY8G9Z3uv381ke5WF1aDOo0SlBuoHha+36v0dN3+ykr0CCgb5XgtxABux7n/Uj7lEE4p2BmxI+IDXQHhqGghqKOwwj7s7YBGPBn6LeLbxRw3MCGq8FcOrkNIVqf1gIZQjhb6sAwNgpeXaw/E1c8qPdLUG8oPbZTOV290duk3vDJrmejHgP6Z7C6kE/38hhwTO6Abw8Wof96BoyuTxkGWW2vW1nn21/AoHk2bPLlSZIkqXil8MP7Vg86t3yCcJqs8Y7CQr5usC2CEaXb1+OnF04pZ3uQOxXlkr9YfENevPK5iMN7ZQWaFEpzGvLMZSAZSutbh0LgoUsawVA/6stK/HQmjsuDTRBmdaVrizfaQPv/uawx3YCQwp+5XFIhnvSwnqUDUb09bmB5P10TylBeQN+yofLFBWjfunDuNTEjhXsHS7cffoSrJtYK+LsnFbxFt/YhoZxt3/Mss30MoTx6X6DZKU2+MRCX5mDtx5dAuB31vxFd+pTxUIGqWKn1FT0ihcGNDotMY3xnNsE5BTMdpW6j7M9iDXzyXw8OA8Iow0q27GUk21MjEY12GvltsxP5/ZlPpZpeT9eFcyoWzgiouefHEhTfCJIODaNfyGAY7b5InmXTihcF92LP5I73AQPWhUxyy2PAMTlF69Nl6E+S0eVMCtWzrDF5tH3KsMhse5ll3cX+KpRnJ0vmlqutRwcAVIRGp3Qk9XcHLtXhwUApmrkDevOWLGnWL+VdXqrDvh+HzMUVG+J27LVV5k1oWypKRnDtrAltPzktVb68CfNQiWfeFbv7YuiWCwsKNjNPqKBet2EY8Yw8FDua4cC5KjZnm1CC99JmXdhQYEdp2oaLGhSjFN8ymtVNyyMs//2KpDvcHSTVqCsvC+C2DQd1VF8VsVwl/exLOszPlbYoRVQmdw2Ubkvd3VYJujTrV6l6sBsl6XoBu150BqxDnqLobIOvt1ei9xIwZzVYqVmmStWGMOL6EkXIurwXAOBcFSsvlKDuC9gJacUg6UbQfpAoE23WxfY5oF0qk6oLXdqHv3BWHjjbyyO7fQz4XkDQCQJWOirXhWSaNJhLNsSWLR3Paz/5VOZNYEtJySnj/qpInzIu2ttX8bbZlqdXTGi3w/fqIMmS+zP/6ahfkfsO+d79l8fIuWtA7RJlqLwsAFcUk10UpHx5BWJfjcpKmzUh3GbBq4v1Z8GTUH3bhmuokaQ4f5Qoo/q2C9xQojrupy+MKqXKWbFhKxakUbdDvxA+t9vY5cAwJCPK9e8RPnuwdt9LnmXnjTqtAfvp2fkudB3vB6kL3cgrj0HHZPiL9RPXJhdZy+OLZQjpnG71LEh9xpg8WJ+SX88KjfeF6ND2csu6nG9/Fcyzk+Q5z/O+G8uTyYTgd+ruq7LhF+xdPu1i+0UzkqnF0QcDpduYqJAZOT04jZK/e8ckGJDw0yPLL8PfVBRwysnTyXE/C4qTdKpX5BRy10Dp9kEfBuRoODw8xPT09HgeLsnWWauHQRf7awL7jkK7J5GnmQ56xmMbzSd+WNePOCVx7osBFn2TZ5bw+y8T5DB0jpz6295qQ//gF5l8AjnKgA6Dv2aiN1kvmTSCvfsnyGEgTxv59tckwkgDaQ/NQZacdJApTIrMgJBh0GGHlXGGf31S4fQ0RaSJ5GRJ9aPjr0PkaYSRhqeMXPtr8qDTQAghhBByChir00CeeShPIoQQQgghhORCp4EQQgghhBCSC50GQgghhBBCSC50GgghhBBCCCG50GkghBBCCCGE5EKn4ZTiNEqodfxMPCGEEEIIIcMl12lwGiUYdwF/z/AaGsf+761PaygZpfZ/NxoYpxnrp8uAk/rdaYw/bSHJvGtP68njf8DGL+e83wghhBBCyLNKl0iDBiX6gscMlOCLiOXL2/DqHry6DQH/QxRe3YM35g9+lC9vwjwjsCHPwB83sOFqMK+O/2MkTqMEZX8Gdj3Ir7oKuzF+t4EQQgghhJA8OjsNdw2UjBJU14K+VULJUCEgoBpFJDEtNG6kz5N/a6Fxo4bGcfCJ9o4z7vKxXmQ4ZVRfFbD2zeh+zq4OS1mRPgGfvHciAnHXSEUkkhGW6PhxA7Xw+qJGf+i8LNURf8e1grr0VVenIUdupOcCCPMwPK666Qf0m2dFyLn3cQM1w4Ajn5OK6kxedIUQQgghhPRCZ6fhUj2IIgh/VvyKAM6YcOseti93m68vQ53WYB3aseF4bKP5RMPCxfBaC/rWBpQlf8bdVgTUyPhuoXFDxcGsG0UzZvaV4lKZS3ocbQgN9fnQME/f24UJHUovs/1PdChbLlbqHrwlE5q7kTLuO9O614R1ZgHquYzjn9agfuvnsVf34M4C+lZsYDsNBfoLdpBuD7aSuHqwPMtPeYF7C6hGWJ42xBMdZnj8rpGIrrizB1AnRCpGCCGEEEKKUWghdOvRAfCCUljeU768AvGkCTtcA3GvmZrtB8SV7ejvyssC+Nb1DcljG02Y2Iyckwr0WQ3iflHDvozqVRPYN2Gkowx3TehPBFaie/vnaq7dw+y3FC04p2LhjAV3YAvYgblvQbwaS6hCqZV9F4HzI2BLUYkEA+cZIG7LUQ4Vosd7x+VZgaoAB4/8THHuC4grcXQlXTcIIYQQQsjk82edfnQakvzFCM1HCyVDwK7L8posKlAVCxv3WqieA+xDwLza5aonLlwA5ZYL64mAZejJ48pK16dGnKtiRSlBdQXseuq5ZxQona8qRiJaUEb1bW+Qu0nI60d6ZAh5Jq54qF8K/3JgGGoP9xZQL8V/Vaoetv2L4X7rOyTitnyxBrNwygghhBBCyLjp6DRUqh68uwZKnytw367CbZSwcdYtIE2S7vGygPW5jdZFoIkFbGbIciJkY/6MCXfARdXKWQ34toODEDon4d8tFxaAHlySvii/OAPsN2EfVxMRl5ggYhEdc+E+6eEBQ8izUd076ZAQQgghhJDTRr48SZIkzbzYo8l4SYcJHcu3mph5Nc/gdGDcFtCmVf+cSyrEEx3Lo/gGwSV/QXe8u1ILjc8FtFk9jp4ETkWo5Red7tPXs3WYZyzot1ILrRsOQkmP+Dw+1vp0A+KMCf0SgHMKZhBIlRCsf5AXQo86z/q+t7++Rdzm4mdCCCGEkNNMx0gDEKxjgIpQYtI7vsGo789gpcMssyxZ0WblKEYF9boNw1BQ2pfOH8psdYd7Kza88NmX6rDvl6AGkixxxYa4vTHoQwPKqL7tAjcUKJHUx5d7AX50x26UUsdCZ6uC+hWBUphnig13FljOey+MMM96uHf58jZc1KAYpfjHUUZFCCGEEELI0HnO87zvRnXz1qc1KI9X4CUW8LbQuKHAfZWSFUIIIYSQohweHmJ6enrcySDPKIV2T+qL4waW9yFtd0oIIYQQQgg5jWTKk/rmuIHalg4LvoSl86JfQgghhBBCyGlhpPIkQgghhBAyHChPIuNkdPIkQgghhBBCyFMBnQZCCCGEEEJILnQaCCGEEEIIIbnQaSCEEEIIIYTkQqeBEEIIIYQQkstYnIbWzRpKpZL/b90ZRxLGgrNeit67drM17uQMlbBMjb0TfOhRA7WwHpUMnLaaNPo8a6Hx5kmWiQMjKo8aGkcn9VyS6FPb2oJfD7L6XL9f6q+8xtLuA76xfo7fnP8IX53kQ/9wC/96/jx+c/589rPDczb3C9zrZNM/mjwr0u6Dc95soKeRb8+Y8L79Efb+rkBZnyj7+F1UR3+OvT+cfAqy65kDY6LLk3RjLE5D+do2PM+Du6WN4/FdCY37YQ+ElesePM+DvTrc+46ekzY+U0/PMoimqtj2PHiHJkZSk44aqJ3iDs5ZV6BftFGfO6knVlD3PHieDTGK209iebT+DUubf43/kP73P/4N35xUGo4aWF4CzEO/f/G8OuRParZuLkOHCdcLjl8/oQ9u7hm9G4mTzvev4q8ePsQbzj/he+NOy8Qw4nZPemQWP374EG88bOJsn3f4avM8/tV6NNRU+VSgbx1Afdr6hWeI4X/c7dTjwF4TsHcB9Y6D+hy/aF2E8rVteNeGf19nvQR1TcD2tgNDyIGx7qByUobPCBlVngEA9owg305/Pk005Z9ga/kniZ/+T/Ov8Z/xfbx0Umk4cmEtLmBzqvNh94EFTdtEOePyynUP3vX+Hj3SOlyEn/2gb8NoZHz/Kv7q4dVxpyKbseSZ71jUT/y5J8P3lPPjTsLkkVHPyte2YT8oYfmmiu1rWb0SmVRyIg2pkHbaM0xIQ9pngZOzwz1KkdL3PkkJ054NsahAmVMh1uy2WU1ZYtQuNZLDtL3LNJL3lq7bM1BabwTlUUNjL8ifRJkkn52QP0UztNI5qfJMllf8bD9NCvQdQMx3e+f0u/rHkhGK9G850omjBjbWNJiH8sxpBfVCDkN7dKR1s5aqS6nyivIk+H1ahwUBNeP9siUh8bPjMpWvzQ/nt27WULvZStSHTnmYXc9aaGwKiN3kjHOxexfI2VTbLnb9OMvDL4fazVbinES694yMNt0rX+H3Dy/gX/78h31en6ZLPwyg5R7kXu/eyziUK+8LZATyOZn9TaoOh9fMC2BHh5J+RifJSR8ylJe0X+GNf77awTkLJCOhRCMhHdnH71KSjfZZ1dT1Pch5vtqMr+s4U/vFR/F9K+/iT6nDvqwj67mpdP3dLSmatY/fnf8IX8nyqcRxn+w8Gx35cuRu9azzveT2mTV2xffP6SsT7b4fid6LmPvnh/gr7cWOR5PleR6/+6LAsS8+wm82bwVl/XPsfRGUaVSe/7dQWeeRVc/C37/8JfCnd2Y7tyG5DmfIn7rVs8pbJrBkTlbUmBQi02lo3TSBD8JwtwsTOpajhtpC430d2HL947sCgGTcpcLl9iqARRNuIWPPgTGtY2Y3fLYNsaae2BoA546ApqkoQ4GyKGCnDAt/9jbIk0UAq3bkLTvrKsSq7ac7kMyI3W1UM2YAZVo3a1DvxRICdwvQp6VBdE2Hu+zBXrWgz7tY8WyInSbsI8A3LFQchOXh2ZhZUlLGnIBa2oByGOTpjg4zPH7UgInN4Nrg2e/7HbcvqfLfVURl4kkzBHmh6QrUVUDckR0BFwcQUAPJTCihierZvbisW581YS0uQC2Qf/3grMt55sH7uBrMxgbvdGhCQ1jeHjxPKss9A8rSTHTM7RByFfMlbFxwgzZgQf91mA/dw/nWkhJd625pEJvxvbvWsyMbzZ04j3u5dzdaN2uJ9/Y8b2jyp1GXh7WkQHmw0uG9HRjzB5K8x+t7Buwbu4l/PL+AN4Y0gZbXD4eOn7JkJYxzv/2ExpLv8FtLSrth1FXeJ6BOu1jxOvQZeXU4vO+u8Pv9qLyC8WFOhUCyb3XuCGBVbXNy++GrzVk8fLmJNx4+xBsP93H+/kIPUotH2Ps7+fqHeOPhOyjqAv5w2b/mlV90OPiHW/jXq/dw3gnum5Y4ffERfv/ORbwSPPcvP7qHLyVj8BtrG1h9GL8X3sVe4r0+xJeVr3EhlKb89l18+QXGTnc5cl49i5H7nqh95oxdQJe+8qiBmtzud2eSY+6AfGP9PFGebzx8iB//KDiYKus3br2Hx1clA/yX7+KPf/MQr/ziEzy8+jUuPGzi7G8/gRsZ6HJZd6oLOeTUs5e0X0X193sf7cdtYHnWvzZdh29dxMNKH2tkplQspO0rcirIdBrK1+qSsVuGqmmwHrj+n0c2mjsaFl4LGu6cCgELbjAYpY29yusC2HHhFkhQ6+YGxKIJPTJEKqjvCliWXciw6RQJKD6D4MBeC9/Lf2fZ4E0ObP5x3HMjw8NeA8TrwbA3pWJhEThwC6Ua5pIFsVyNJATla5sw5UYl5Ym2pScH1yMbTZjYlAx5fSuZdkA2LH1jPkrbVBV1yUgqv7YArWB5daPylglNiti0PmsCUfoDKVjkTJZRXS5e1sOg32c5d5Iz+eVrK5ITFyA5lJXXhVRXCiBdmyyPAvXsyIW1qEDp+d7dCOpphwjGsBhpeUgTF+3vbaH5WecnF+9TvsL/vIshRhny++FwjZS7pSWMc79sQ6Ped/i1yBkrNonhI0f5Un3GQKT7J7/fNd8KSq9jFLtoxHkfx798D6+ERg5exNzfvIc/3f6s2EzsF9t4+Fv5+uHx1c13gY/+AXPfzzj+vz/E2Vuxg/KS9rcJQ/El7R3p2hehXPkp/uQ+lO7wU5x3wutnce4XwB+/HoUufdh0r2du5DCk+p7csSu/r/THos24PczpiTF3MFtiH1++80miPGMeYe+/f4jvfVSLj/3oHbzyi0/wzV5QXj/7J7wSOBiJ8yLksu5UF7LpVs/y+Gbvk2Qd/lEN53/2IY57dk7LUC4Oqz8hJ0m2PCnVcStLVnxsSsGMPMju2RDS7HFZmQGkAbvnWaSLSqb+thvhQJr8V3Cg3LMhJGen/NpCwuBVLmhA9HcLtmUFUQkAUKAsSrPqaceqKxqUfmfUj1xYCRlAqrwAAMmZ58p1eTY1JYGY1pG+um8SMwot2BbiPAmjDnKnPH9yS+kq1/2Z2zDfist0fMmHLNcqldS2GddosAKAubo0cz4I3etZvlxlAI5cHAxST7sw6vKI2yqC2fDYUKkfmkA0G5+cbSzap3xjN/GP//4/4S+HKdPN64dPMYm+dc+GWF2J8zOMVKT/FYlU/+Fr/BEf4ktJ9vGbqx8WTtc3X98bk+b/Ef7ffeDxVVkWtYDH8imJnZvO4/fvfHLiqRwPAvqSlWFD5I1d+X2l+8CSInBxVC5kIFviD1/jj/gpns9wEAHg+R90ljT1zf2vCzjGBepZDo/dT5KypfOzePjb/pKrXJAmosmpIWMhtC8RwpYLLzAsWzdrUB6Ex4PGuKSgtOT/Ina9uEFPKdAgoE+XoPtHe1uQec9FC5VogPeNoMx502TK10tQ19K/ajAPuzd2544AdgClpCd+n9mrozIXOEMQUEuBObJowo0Mb99zxpqKUvB8bcvtYVYviNRE57twdwAsF7x80YTbp1HqrCvB7irB9UcN1KaH1Zj92VHljoP6lIsm0gs2RfvsUUjkfFZ7yMfe0lb92EMVCN65BGO3uNxG9HDu8Ohez/x6OgKmFIzozgFjLI+pKra9KoCgrysZUb0s1qd8hf959wH+/vX/OkS9eLd++BQzpWJhUYG9VwfuCIjXvfjYUQO1ThMXq3bBnZ/ewys9SIpkXvrBxT6uGh5nb0kSlgT7+F3lXeCjfbwR6Oe/sX6O3z8TNpeA7amwSypqF9yEdDB/7OreV2pbbqYUcRBbAt//AZ7vcsofv34E/Ch0HHxjvqCZ05mXf1C478muZ9353kf7mWs4esF9YEG7sDnwfcjJkrvl6owS6waX5RmuPTO5hV9K1+z8Wlrv0GELwDz88KKsaWyX7uTR/+xAMFu5m7zWjjT54eJS6bhspB81sLEmElrv4rroQPsvacvbZVo5zKkQO/Kakz6Iojv+epXkgO13vmm5U1HKry1Au+fC+ayJGbkcgyiEmiU7mNNhLloJjWq4e1JRovDnnpE/S9vJIJ5SMINOustAujY/hu0/i9SzKWVo8rIkFair6fLojdNQHlW7UzAAABLRSURBVGmnq0if4kcZ3sR/ybI5wwWXfWzqkNkPTzpTCrS0RCzClyKKzRo27qX6uUEiDd9/DS/97EN8mbtv/if4YyDF+Mb6Ob78pXToR3+Os7/tQR/eA2eVn0oyKd8JiBdC+xKTx1fz9eHR7PQfbmFv2JGGo04bbEwKcTSwLQKZNXZ16SsrrwtYS8uZcqOBIg2YxblffIKHa50WKAdyone247IOZHEX+jHGg7pw9i+KSOqK1bNkXY354V+8hz+989+G8O0H396K+jZyashwGgLNaRjun3axIC9imtMTMoL0biT+yngFSS2gEcl6wnCismT5swDyYDpVxfahiYP5WGZwsOWOfkY3Y/Fo5XURSJKCQW4++c5RBztVxcpqSmpT6rzLkLoWL0wMj1eue7AvxnmqLM3ALhw5qKAeLH7ufVebcN2BGoVoXa19YWTlur8gve29ot0n/HUt+nQH3edUFSsXdahLM6n8LaP6sb/4uXOeBccTdc2GGhgP0a4ZiV11wnpWRvUDqR5uKrATC/HSu2p0qmf+epq4zOP3Kl/b9hfbdqoL3SiSZ1l0rWeInLGNEWwekK6niXqW+16noTxCidxBaseuLrT+De/dfYC//48/yZ7pmwvkUr2sa+nWDw9IfvvpQsF2v7mF4FiHe8+pEDsWIMvGBuZFzP2zv/hZ3pkmXgg9ix/fei+SZ/ze/dvUouVZ/PhhE88nJBjtu8v4Ox+FMqjwePxRLXn3mfDZL2n/gPN4F78/fx6/Of8veN5J7qP/kvYrf1GqLK2KFkLP4pWPfhrLSipf46WPfjq0XAMQaf6Lrj+MyK0LXcb7ntJXxXbY/oPrc8eubn3lXD1Y/NzJThmcHy4/xCsvh+Wd3CGprayv3pPWKBThEzysxLtwPX8rucg6lh2F58WLrPPrWXiOXFel3ZN+9E6w+Lm/3cUiumzWQSaX5zzP+67nq/YMlDaVpBxmz0BpHrC9OrDu7xqTDCOWoKJoeHkSaaHxpgJ3WY6q+L81NRfbr9moTbtYkaMqRw3UpptYKBLOJKQIQfi9az2T2uNpbXFPF35foV88zX3gsHFglDagsH+cGJz1kr+L31DWX42Zon3lKePw8H/h65/8Fs87v8pcVD/pOB1sRHI66OuL0J0WWjp3BLCoQOm4L7i/i4F2YRDB3rgJ1hjIHNlo7gQhtiO3TYPb+qwJCzMjWzhKnkGK1rO5OuzVHOkXOTH8GX06DGn87TBXTq3x9lQRRAueGocB4Jg8oYTby2/SYTiV9BdpCGfNZCNaXojbYSFb3oKjU8Oe0ba7j7z4sn3hVM4iX0L6pHg96xQdy7wrjA47DkUUXoRKSD5R/R1g8wZCivA0jsmnO9LgwCjZUE95GTzL9Ok0EEIIIYSQk+Tw8BDT09PjTgZ5RulLnkQIIYQQQgh5dqDTQAghhBBCCMmFTgMhhBBCCCEkFzoNhBBCCCGEkFzoNBBCCCGEEEJyGYvTEH2JtN8vQxYi+YXZxBdzw2NFvxibef+CX/ENOWqgNtAzCSGEEEIIOXnG4jSUr23D8zy4W1r3k/vE/3CQDc/z4Hle8W9EHDVQ6/op+RYab6o42NqMPkzkO0IpJ2LPSP42VcXKRR0KP7hFCCGEEEJOEU+pPMn/KrV4PevzIRXUPQ9enx8Wat1cho7kFw3L17Zhr1rQ3w8jCQ6MeQGxm/xcfeW6C/OeCmOvjwcTQgghhBAyBnKchhYab8bynjYpz1EDNUn+4/+LZ+gTEqRepUjpe/c8M+/C3el8JFsaFUiWpnVYEFCj56clSA7MJcD8oN3hqFy3IXZ0mHtxpKP9S7xlVJcFxCZlSoQQQggh5HSQ6TS0bprAB14g73FhQsdytC6ghcb7OrDl+sd3BQAN5mHwafCjBpaXAPPQv95eBbBowr1e5MPhDoxpHTO74bNtiDU1tSYhg8jZUCEAiPl2ZyZbGhVEHw5NaBCwvfD5yUgB9myIxQWoU+hABfqWBjFfgrqmwXwr433nVIidJuxe1kMQQgghhBAyJjKdhvK1umQsl6FqGqwHrv/nkY3mjoaF14K59jkVAhbcwAhufdaEJRnWldcFsOPCLZCg1s0NiEUTejRDX0F9V8Cy7O4z81NVbIeOBgAROR6BMzMEWu4BcFHJlDWVr61AAMDqStLZSKBAWYzzixBCCCGEkEkmW56UkggpS1Z8bErBDCw0PwvM+D0bAgJqYOiXlRlAmkl37ghgVS1uuOcY5ePGfWDlHnfW/SgH1vLWLZShXAQOXAqUCCGEEELI5JPhNPgSoUh+1CbnUaAsAtaS4jsV8wJiV5rNn1KgwYI+7Tsc6pqAXUiaFHDPTUQVWu5Bb281QpQLOTs+7Rm+LOnQl2SJ+axdmPyF2jPKpLpGhBBCCCGExOTunhQZtUcNLMuRhj0TOky4ke7fSyz4dX6ddDh6kQeVX1uAFiwmDu4Gc8mCWE4uPHbWfYdk6LsQTSmYgYCdcd+yMtPm1Pi00NgUkSypct2Pvmx0XIvhwt3RoGTKlwghhBBCCJkcMpyGeEFvqVRCadrFghxpmNNhQoeS2h0pNOArb5lAGIVo21kp3pVJWbKANTW5k9FUFduHJg6iRcwqDrbcDrsQ9UOXZwfvXt8V0iLq1O5Jc2q0Q5KMs65A35EjKsFajCWl3bHJXUxNCCGEEELIZPGc53nf9XzVnoHSpgJX/s7BnoHSPGB7dWC9hI0LbuKDas56CSpseL3IlCaU1s0aFGsh+f7Fr0bjTQXusjckR4gQQgghzwKHh4eYnp4edzLIM0pfH3frtMbAuSOARQVKoNdPHYW9BmgXlH4eN3GUr22mtqAtjrOuQL/Y6fsNhBBCCCGETCb9RRqC2XJd/oDaohnPvB81UJvWIe8zpG0lIw+nHwdGaQPK4XbO1qopjhqovQ9s9vklakIIIYQ8uzDSQMZJn04DIYQQQgg5Seg0kHHSlzyJEEIIIYQQ8uxAp4EQQgghhBCSC50GQgghhBBCSC50GgghhBBCCCG50GkghBBCCCGE5JLpNLRu1uKvOSe+mFyAPQOlNxvo/SsGPs56/CXpWh/fQhgXA+XZqcWBUcr4evYw7t53XfC//t32Ne7iTx7pexFCCCGEnCYynYbytW14ngd3SzvJ9AAAKtc9eJ4He/XEHz0Q48yz8VFB3fPgeTbEKO4+trow2vcihBBCCDlNUJ5ECCGEEEIIyWUAp0GWb3SW47iSXCcpLfGlIwPJn0qDyVai61MyqoTEqEP6ZLlMz88/aqDWJc9GRirP0rKd3PdKp7tUQqlkoGjqk/certQnWV6d7i3X03Sak3W4Vylcuq70L4UihBBCCJls+nYanHUbqudLRzzPhlhTk0bTjg71wYp//NAElpYjg85ZV6BftINrXZj31B4MNgfG/AHMw/DZHravlQunu3XTBD7w4mdDx7JkHC8vIbq3vQpg0YR7veIf3zOgrgnY4bWLAFbtgs93YEzrmNlN5tnJrNlwYNxRo/zydgXEvGRA575XC433dWDLja4FNJiHdVQKPLl1swb1ngk3eLa7BejTxR2OXI4aMLEZvZe7BejvJ51AMb8BJSpPATVy1FpovKniIHwvz8bMklLc8D9qYHlpJsgz/199bhgvRQghhBAyefTtNFSuy0ZjBeoqcOBK5ppsbE+pWFi00PysBcCBvSZgh8dQRnVZwLLsHhZOh/fqnfK1OqpT0V9QNQ3WAxcA0PqsCWtxAWpwvPK6AHZcuMHZzh0BrKrBe/vX4p5bKN2tmxsQiyb0yLCsoL5b9L1TUZ2MKEk2FdSvSyb+nAqBA7ihE5f3Xkc2mjsaFl4rS9da0bXd0m0uWRDLVYRuVfnaJsxFAXsYs/JTVdQlh6382gI0qbwAQOxuR+VdeV0Aa7bvsBzZaMLEZnR9BfqWBnGnF3dmSO9BCCGEEDLh9C9PSsld1LW8k8tQLgb/PXJxAAFVNn7ne1lqWkH90ASWlJ5lMv7zk1IbZcmKU6nMADtN2B2NaUC5oMVGJ1qwLQuapqJwnOOiUvzcBOGi3NS/j6uF75eUCKmJxb257zWlYEZ20vZsCAiohWfVNShT3c/qj5TUbFqHlXf6lIJoifqRC2tHh5JRF7oyVcX2roCY79WBI4QQQgg5ffTnNBw1UJsXELuxAZu/u00L7j1gRglNXJGQdfRqAGOqiu1IknIAtbDj4EuEIqlNeqejKQUaLOjToSMkR0QCpyJyeBToiZnqAqSiEi33oOCFg0UaWjdrkvyofUeg/PdSoCwCVuikzQuI3WLSJJ90VMKFu1P44lycdT+tofTJOzSRu2/VkQtrUYES/r0oXRv+u178zTBXj+v/RR0KHQdCCCGEPKUMsBBamkHeM/IjDXsm9J1gdnpKxcKirC0fDN/g7Y3IeTlqYFmaXXZ+nXQoPE82jltobCYdpV4cHV86o8OM5Czt0p1sBo80QDKWnXU50tDlvfbMpGHek3bfl62JzdiYbpdpIY7+9GN0R9Ebf+1FdqzAf88ogjKnQuxI61kGRLnwLG2zSwghhJBnjQynIZZ9KEsWsKYmd/uZqmJlNZ6RL20qMNORBln6MQ/YkQFeRvVjf/Fz5x2I4ll1dS2e4Y6Op2RRpfmDwotyI916KCmZdrEgRRoqb8myp/SOO/7ai+jattn+7nm2fWjiILreX4R7Eotny9dWIKTy2LhgSk5Dl/ea02EiKeNJ7BQUlYe/1sGvE/EuRpXrwSx8JAGagV3Y2cmvC5W3TGhhPpcUuFp7pCF+LwVNzZUWrVdQDxY/9/Ne6Z2TensvQgghhJDTxXOe53037kRMCs56CRsX3MRuSM56CSpseNcVNN5U4C7LM+0tNN5MG6OnjVb+eykmSpsK3ET0wUg5goQQQggZNYeHh5ienh53MsgzCj/uFuGvu0jiwF4DtAsKOmrxj2w0d+S1GqeR/PfqtO7CuSMScidCCCGEEPJ081RFGpz1vF2cRPeZ8aMGaqkdeLQtKYqwZ7Tt9CR2n4L9+XPfy4866LJjsWgmIw8kpkMdkknUJ0IIIaQHGGkg4+SpchoIIYQQQp5W6DSQcUJ5EiGEEEIIISQXOg2EEEIIIYSQXOg0EEIIIYQQQnKh00AIIYQQQgjJhU4DIYQQQgghJJdMpyHxxdvwq8ZF2TOkLyX3jrPe6UvRk89AeUYIIYQQQsiEkuk0lK9tw/M8uFvaSaYHAFC57sHzPNirJ/7ogRhnnhFCCCGEEDIqKE8ihBBCCCGE5DKA0+DAKJVy5TiuJNdJyoxaaLyZf20ue0Z8bc8SptSzUzKqhMSoQ/pk6VTPzz9qoNYlzwghhBBCCJk0+nYanHUbqufLiDzPhlhTYexJJ+zoUB+s+McPTWBpGY2j8FoF+kU7uNaFeU/twfB3YMwfwDwMn+1h+1q5cLpbN03gAy9+NnQsh88+amB5CdG97VUAiybc6xX/+J4BdU3ADq9dBLBqF3y+A2Nax8xuMs9O05oNQgghhBDybNK301C5Xkcl/gvqKnDgSgawbGxPqVhYtND8rAXAgb0mYIfHUEZ1WcCy7B4WTof36p3ytTqqU9FfUDUN1gMXAND6rAlrcQFqcLzyugB2XLjB2c4dAayqwXv71+KeWyjdrZsbEIsm9Lnwlwrqu72+NyGEEEIIISdP//KklERIXcs7uQzlYvDfIxcHEFBlmc686OHBFdQPTWBJCa430JPIJyURUpasOJXKDLDThB1GRBJOAqBc0IA1O3heC7ZlQdNUFI5zXFSKn0sIIYQQQsiE0J/TcNRAbV5A7MYSofydjlpw7wEzSmgyhxIf6d/H1eIG9VQV28F17tYB1MKOgy8RwpYbPTex09GUAg0W9OnQEZIjIoFTETk8CnSY2OxBGpWOSrTcg+LXEkIIIYQQMiYGWAitQQllPntGfqRhz4S+I6DOIZAqCahDWgTsG/K9ETkvRw0sS5EG59dJh8LzZAlWC43NpKPUi6NTfm0B2o4OM1r34cBcsiCWe3CWCCGEEEIIGQMZTkO8w5CyZAFranK3n6kqVlbjGfnSpgIzHWnY0aFE8iPAjgzwMqof+4ufO+9AFO/KpK4BViBDio6nZFGl+QOYh7Jxn0cF+pYGMR9cO+1iQYo0VN6SZU+llPzJX3sRXdu2+1L3PNs+NHEQXa/iYMtFfa4tkYQQQgghhEwUz3me9924EzEpOOslbFxwE7shOeslqLDhXVfQeFOBu+xJhn4LjTcVNDW3px2cCCGEEEJ65fDwENPT0+NOBnlG4cfdIvx1F0kc2GuAdkEB4MLdSR0+stHckddqEEIIIYQQ8vTxVDkNnT681i4zyqKM6gdpeZIvIfKjCP4WqQl5UvDdBUqMCCGEEELI0wzlSYQQQgghpwDKk8g4eaoiDYQQQgghhJDhQ6eBEEIIIYQQkgudBkIIIYQQQkgudBoIIYQQQgghudBpIIQQQgghhOTy/wEyYYb37+G7fQAAAABJRU5ErkJggg==)"
      ],
      "metadata": {
        "id": "4oyk0i4KJI8n"
      }
    },
    {
      "cell_type": "code",
      "metadata": {
        "id": "A6ed6Qt566un",
        "colab": {
          "base_uri": "https://localhost:8080/"
        },
        "outputId": "2312fa32-3ce1-4d1c-e0af-15e2b6ae7a80"
      },
      "source": [
        "#Membuat Model Agglomerative Cluster, dengan n_cluster = 7, jarak euclidean, dan complete linkage\n",
        "#Type Your Code Here\n",
        "agglo = AgglomerativeClustering(n_clusters=7, affinity='euclidean', linkage='complete')\n",
        "agglo.fit(X)\n",
        "labels_agglo = agglo.labels_\n",
        "labels_agglo\n"
      ],
      "execution_count": 9,
      "outputs": [
        {
          "output_type": "execute_result",
          "data": {
            "text/plain": [
              "array([1, 3, 1, 3, 1, 3, 1, 3, 1, 3, 1, 3, 1, 3, 1, 3, 1, 3, 1, 3, 1, 3,\n",
              "       1, 3, 1, 3, 1, 3, 1, 3, 1, 3, 1, 3, 1, 3, 1, 3, 1, 3, 1, 3, 1, 4,\n",
              "       1, 4, 4, 4, 4, 4, 4, 4, 4, 4, 4, 4, 4, 4, 4, 4, 4, 4, 4, 4, 4, 4,\n",
              "       4, 4, 4, 4, 4, 4, 4, 4, 4, 4, 4, 4, 4, 4, 4, 4, 4, 4, 4, 4, 4, 4,\n",
              "       4, 4, 4, 4, 4, 4, 4, 4, 4, 4, 4, 4, 4, 4, 4, 4, 4, 4, 4, 4, 4, 4,\n",
              "       4, 4, 4, 4, 4, 4, 4, 4, 4, 4, 4, 4, 4, 0, 2, 0, 2, 0, 2, 0, 2, 0,\n",
              "       2, 0, 2, 0, 2, 0, 2, 0, 2, 0, 2, 0, 2, 0, 2, 0, 2, 0, 2, 0, 2, 0,\n",
              "       2, 0, 2, 0, 2, 0, 2, 0, 2, 0, 2, 0, 2, 0, 2, 0, 2, 0, 2, 0, 2, 0,\n",
              "       2, 0, 2, 0, 2, 0, 2, 0, 2, 0, 6, 0, 6, 0, 6, 0, 6, 0, 6, 5, 6, 5,\n",
              "       6, 5])"
            ]
          },
          "metadata": {},
          "execution_count": 9
        }
      ]
    },
    {
      "cell_type": "markdown",
      "source": [
        "## Tugas 3 :  Visualisasi Hasil Clustering  \n",
        "Nb :    warna boleh diubah \n",
        "\n",
        "![image.png](data:image/png;base64,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)\n"
      ],
      "metadata": {
        "id": "bDKM7HwOmld-"
      }
    },
    {
      "cell_type": "code",
      "metadata": {
        "id": "YVf-Buij66un",
        "colab": {
          "base_uri": "https://localhost:8080/",
          "height": 265
        },
        "outputId": "63c50721-fc8a-453d-8cfc-e161c0b5f6fa"
      },
      "source": [
        "#Membuat visualisasi hasil clustering\n",
        "#Type Your Code here\n",
        "\n",
        "plt.scatter(X[labels_agglo==0, 0], X[labels_agglo==0, 1], s=50, marker='o', color='red')\n",
        "plt.scatter(X[labels_agglo==1, 0], X[labels_agglo==1, 1], s=50, marker='o', color='blue')\n",
        "plt.scatter(X[labels_agglo==2, 0], X[labels_agglo==2, 1], s=50, marker='o', color='green')\n",
        "plt.scatter(X[labels_agglo==3, 0], X[labels_agglo==3, 1], s=50, marker='o', color='purple')\n",
        "plt.scatter(X[labels_agglo==4, 0], X[labels_agglo==4, 1], s=50, marker='o', color='orange')\n",
        "plt.scatter(X[labels_agglo==5, 0], X[labels_agglo==5, 1], s=50, marker='o', color='yellow')\n",
        "plt.scatter(X[labels_agglo==6, 0], X[labels_agglo==6, 1], s=50, marker='o', color='magenta')\n",
        "plt.show()"
      ],
      "execution_count": 10,
      "outputs": [
        {
          "output_type": "display_data",
          "data": {
            "text/plain": [
              "<Figure size 432x288 with 1 Axes>"
            ],
            "image/png": "[encoded data removed]"
          },
          "metadata": {
            "needs_background": "light"
          }
        }
      ]
    },
    {
      "cell_type": "markdown",
      "source": [
        "Kita bisa lihat hasil clusteringnya sudah bagus, terlihat antar cluster cukup terpisah (ga ada misalnya anggota cluster warna biru berada di tengah2 warna oren). Artinya kita bisa menggunakan hasil clustering ini"
      ],
      "metadata": {
        "id": "xAeN0bDjp4Sn"
      }
    },
    {
      "cell_type": "code",
      "source": [
        "#Menambahkan hasil clustering ke dataframe\n",
        "data['cluster_agglo'] = labels_agglo\n",
        "data"
      ],
      "metadata": {
        "id": "p5GVbbGfdaqU",
        "colab": {
          "base_uri": "https://localhost:8080/",
          "height": 455
        },
        "outputId": "fc9229a0-ba29-4180-9a47-cc90993c9a58"
      },
      "execution_count": 11,
      "outputs": [
        {
          "output_type": "execute_result",
          "data": {
            "text/plain": [
              "             Genre  Age  Annual Income (k$)  Spending Score (1-100)  \\\n",
              "CustomerID                                                            \n",
              "1             Male   19                  15                      39   \n",
              "2             Male   21                  15                      81   \n",
              "3           Female   20                  16                       6   \n",
              "4           Female   23                  16                      77   \n",
              "5           Female   31                  17                      40   \n",
              "...            ...  ...                 ...                     ...   \n",
              "196         Female   35                 120                      79   \n",
              "197         Female   45                 126                      28   \n",
              "198           Male   32                 126                      74   \n",
              "199           Male   32                 137                      18   \n",
              "200           Male   30                 137                      83   \n",
              "\n",
              "            cluster_agglo  \n",
              "CustomerID                 \n",
              "1                       1  \n",
              "2                       3  \n",
              "3                       1  \n",
              "4                       3  \n",
              "5                       1  \n",
              "...                   ...  \n",
              "196                     5  \n",
              "197                     6  \n",
              "198                     5  \n",
              "199                     6  \n",
              "200                     5  \n",
              "\n",
              "[200 rows x 5 columns]"
            ],
            "text/html": [
              "\n",
              "  <div id=\"df-db0d2131-6542-4fcf-9495-7c15499e4334\">\n",
              "    <div class=\"colab-df-container\">\n",
              "      <div>\n",
              "<style scoped>\n",
              "    .dataframe tbody tr th:only-of-type {\n",
              "        vertical-align: middle;\n",
              "    }\n",
              "\n",
              "    .dataframe tbody tr th {\n",
              "        vertical-align: top;\n",
              "    }\n",
              "\n",
              "    .dataframe thead th {\n",
              "        text-align: right;\n",
              "    }\n",
              "</style>\n",
              "<table border=\"1\" class=\"dataframe\">\n",
              "  <thead>\n",
              "    <tr style=\"text-align: right;\">\n",
              "      <th></th>\n",
              "      <th>Genre</th>\n",
              "      <th>Age</th>\n",
              "      <th>Annual Income (k$)</th>\n",
              "      <th>Spending Score (1-100)</th>\n",
              "      <th>cluster_agglo</th>\n",
              "    </tr>\n",
              "    <tr>\n",
              "      <th>CustomerID</th>\n",
              "      <th></th>\n",
              "      <th></th>\n",
              "      <th></th>\n",
              "      <th></th>\n",
              "      <th></th>\n",
              "    </tr>\n",
              "  </thead>\n",
              "  <tbody>\n",
              "    <tr>\n",
              "      <th>1</th>\n",
              "      <td>Male</td>\n",
              "      <td>19</td>\n",
              "      <td>15</td>\n",
              "      <td>39</td>\n",
              "      <td>1</td>\n",
              "    </tr>\n",
              "    <tr>\n",
              "      <th>2</th>\n",
              "      <td>Male</td>\n",
              "      <td>21</td>\n",
              "      <td>15</td>\n",
              "      <td>81</td>\n",
              "      <td>3</td>\n",
              "    </tr>\n",
              "    <tr>\n",
              "      <th>3</th>\n",
              "      <td>Female</td>\n",
              "      <td>20</td>\n",
              "      <td>16</td>\n",
              "      <td>6</td>\n",
              "      <td>1</td>\n",
              "    </tr>\n",
              "    <tr>\n",
              "      <th>4</th>\n",
              "      <td>Female</td>\n",
              "      <td>23</td>\n",
              "      <td>16</td>\n",
              "      <td>77</td>\n",
              "      <td>3</td>\n",
              "    </tr>\n",
              "    <tr>\n",
              "      <th>5</th>\n",
              "      <td>Female</td>\n",
              "      <td>31</td>\n",
              "      <td>17</td>\n",
              "      <td>40</td>\n",
              "      <td>1</td>\n",
              "    </tr>\n",
              "    <tr>\n",
              "      <th>...</th>\n",
              "      <td>...</td>\n",
              "      <td>...</td>\n",
              "      <td>...</td>\n",
              "      <td>...</td>\n",
              "      <td>...</td>\n",
              "    </tr>\n",
              "    <tr>\n",
              "      <th>196</th>\n",
              "      <td>Female</td>\n",
              "      <td>35</td>\n",
              "      <td>120</td>\n",
              "      <td>79</td>\n",
              "      <td>5</td>\n",
              "    </tr>\n",
              "    <tr>\n",
              "      <th>197</th>\n",
              "      <td>Female</td>\n",
              "      <td>45</td>\n",
              "      <td>126</td>\n",
              "      <td>28</td>\n",
              "      <td>6</td>\n",
              "    </tr>\n",
              "    <tr>\n",
              "      <th>198</th>\n",
              "      <td>Male</td>\n",
              "      <td>32</td>\n",
              "      <td>126</td>\n",
              "      <td>74</td>\n",
              "      <td>5</td>\n",
              "    </tr>\n",
              "    <tr>\n",
              "      <th>199</th>\n",
              "      <td>Male</td>\n",
              "      <td>32</td>\n",
              "      <td>137</td>\n",
              "      <td>18</td>\n",
              "      <td>6</td>\n",
              "    </tr>\n",
              "    <tr>\n",
              "      <th>200</th>\n",
              "      <td>Male</td>\n",
              "      <td>30</td>\n",
              "      <td>137</td>\n",
              "      <td>83</td>\n",
              "      <td>5</td>\n",
              "    </tr>\n",
              "  </tbody>\n",
              "</table>\n",
              "<p>200 rows × 5 columns</p>\n",
              "</div>\n",
              "      <button class=\"colab-df-convert\" onclick=\"convertToInteractive('df-db0d2131-6542-4fcf-9495-7c15499e4334')\"\n",
              "              title=\"Convert this dataframe to an interactive table.\"\n",
              "              style=\"display:none;\">\n",
              "        \n",
              "  <svg xmlns=\"http://www.w3.org/2000/svg\" height=\"24px\"viewBox=\"0 0 24 24\"\n",
              "       width=\"24px\">\n",
              "    <path d=\"M0 0h24v24H0V0z\" fill=\"none\"/>\n",
              "    <path d=\"M18.56 5.44l.94 2.06.94-2.06 2.06-.94-2.06-.94-.94-2.06-.94 2.06-2.06.94zm-11 1L8.5 8.5l.94-2.06 2.06-.94-2.06-.94L8.5 2.5l-.94 2.06-2.06.94zm10 10l.94 2.06.94-2.06 2.06-.94-2.06-.94-.94-2.06-.94 2.06-2.06.94z\"/><path d=\"M17.41 7.96l-1.37-1.37c-.4-.4-.92-.59-1.43-.59-.52 0-1.04.2-1.43.59L10.3 9.45l-7.72 7.72c-.78.78-.78 2.05 0 2.83L4 21.41c.39.39.9.59 1.41.59.51 0 1.02-.2 1.41-.59l7.78-7.78 2.81-2.81c.8-.78.8-2.07 0-2.86zM5.41 20L4 18.59l7.72-7.72 1.47 1.35L5.41 20z\"/>\n",
              "  </svg>\n",
              "      </button>\n",
              "      \n",
              "  <style>\n",
              "    .colab-df-container {\n",
              "      display:flex;\n",
              "      flex-wrap:wrap;\n",
              "      gap: 12px;\n",
              "    }\n",
              "\n",
              "    .colab-df-convert {\n",
              "      background-color: #E8F0FE;\n",
              "      border: none;\n",
              "      border-radius: 50%;\n",
              "      cursor: pointer;\n",
              "      display: none;\n",
              "      fill: #1967D2;\n",
              "      height: 32px;\n",
              "      padding: 0 0 0 0;\n",
              "      width: 32px;\n",
              "    }\n",
              "\n",
              "    .colab-df-convert:hover {\n",
              "      background-color: #E2EBFA;\n",
              "      box-shadow: 0px 1px 2px rgba(60, 64, 67, 0.3), 0px 1px 3px 1px rgba(60, 64, 67, 0.15);\n",
              "      fill: #174EA6;\n",
              "    }\n",
              "\n",
              "    [theme=dark] .colab-df-convert {\n",
              "      background-color: #3B4455;\n",
              "      fill: #D2E3FC;\n",
              "    }\n",
              "\n",
              "    [theme=dark] .colab-df-convert:hover {\n",
              "      background-color: #434B5C;\n",
              "      box-shadow: 0px 1px 3px 1px rgba(0, 0, 0, 0.15);\n",
              "      filter: drop-shadow(0px 1px 2px rgba(0, 0, 0, 0.3));\n",
              "      fill: #FFFFFF;\n",
              "    }\n",
              "  </style>\n",
              "\n",
              "      <script>\n",
              "        const buttonEl =\n",
              "          document.querySelector('#df-db0d2131-6542-4fcf-9495-7c15499e4334 button.colab-df-convert');\n",
              "        buttonEl.style.display =\n",
              "          google.colab.kernel.accessAllowed ? 'block' : 'none';\n",
              "\n",
              "        async function convertToInteractive(key) {\n",
              "          const element = document.querySelector('#df-db0d2131-6542-4fcf-9495-7c15499e4334');\n",
              "          const dataTable =\n",
              "            await google.colab.kernel.invokeFunction('convertToInteractive',\n",
              "                                                     [key], {});\n",
              "          if (!dataTable) return;\n",
              "\n",
              "          const docLinkHtml = 'Like what you see? Visit the ' +\n",
              "            '<a target=\"_blank\" href=https://colab.research.google.com/notebooks/data_table.ipynb>data table notebook</a>'\n",
              "            + ' to learn more about interactive tables.';\n",
              "          element.innerHTML = '';\n",
              "          dataTable['output_type'] = 'display_data';\n",
              "          await google.colab.output.renderOutput(dataTable, element);\n",
              "          const docLink = document.createElement('div');\n",
              "          docLink.innerHTML = docLinkHtml;\n",
              "          element.appendChild(docLink);\n",
              "        }\n",
              "      </script>\n",
              "    </div>\n",
              "  </div>\n",
              "  "
            ]
          },
          "metadata": {},
          "execution_count": 11
        }
      ]
    },
    {
      "cell_type": "markdown",
      "source": [
        "## Tugas 4 :    Cari rata-rata per cluster\n",
        "\n",
        "![image.png](data:image/png;base64,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)"
      ],
      "metadata": {
        "id": "XhoQ4adTJePT"
      }
    },
    {
      "cell_type": "code",
      "source": [
        "#Mencari rata-rata per cluster\n",
        "#Type Your Code Here\n",
        "for i in range(max(labels_agglo)+1):\n",
        "  print('cluster ke-', i)\n",
        "  print('rata2 pemasukan = ', data[data['cluster_agglo']==i]['Annual Income (k$)'].mean(), \n",
        "        ', rata2 pengeluaran = ', data[data['cluster_agglo']==i]['Spending Score (1-100)'].mean())"
      ],
      "metadata": {
        "id": "BXUG7Cv5dpx2",
        "colab": {
          "base_uri": "https://localhost:8080/"
        },
        "outputId": "e418caef-2d5a-431a-b12f-95ce6e494fe8"
      },
      "execution_count": 12,
      "outputs": [
        {
          "output_type": "stream",
          "name": "stdout",
          "text": [
            "cluster ke- 0\n",
            "rata2 pemasukan =  83.11111111111111 , rata2 pengeluaran =  82.41666666666667\n",
            "cluster ke- 1\n",
            "rata2 pemasukan =  26.304347826086957 , rata2 pengeluaran =  20.91304347826087\n",
            "cluster ke- 2\n",
            "rata2 pemasukan =  80.74193548387096 , rata2 pengeluaran =  18.516129032258064\n",
            "cluster ke- 3\n",
            "rata2 pemasukan =  25.095238095238095 , rata2 pengeluaran =  80.04761904761905\n",
            "cluster ke- 4\n",
            "rata2 pemasukan =  54.41772151898734 , rata2 pengeluaran =  50.21518987341772\n",
            "cluster ke- 5\n",
            "rata2 pemasukan =  127.66666666666667 , rata2 pengeluaran =  78.66666666666667\n",
            "cluster ke- 6\n",
            "rata2 pemasukan =  114.71428571428571 , rata2 pengeluaran =  19.142857142857142\n"
          ]
        }
      ]
    },
    {
      "cell_type": "markdown",
      "source": [
        "Sehingga, bisa kita simpulkan bahwa :    \n",
        "*   Cluster 0 adalah kelompok keuangan menengah ke-atas, baik secara pemasukan maupun pengeluaran\n",
        "*   Cluster 1 adalah kelompok keuangan rendah bawah, baik secara pemasukan maupun pengeluaran\n",
        "*   Cluster 2 adalah kelompok yang baik dalam menabung, pemasukannya lumayan namun pengeluarannya sangat rendah\n",
        "*   Cluster 3 adalah kelompok yang boros, pemasukannya rendah namun pengeluarannya cukup besar\n",
        "*   Cluster 4 adalah kelompok menengah ke-bawah, baik secara pemasukan maupun pengeluaran\n",
        "*   Cluster 5 adalah kelompok yang kaya, namun pengeluarannya juga lumayan\n",
        "*   Cluster 6 adalah kelompok yang kaya dan hemat, pengeluarannya sangat kecil\n",
        "\n",
        "Jika kamu adalah pemilik toko kredit dan akan menawarkan kredit mobil, cluster manakah yang menurutmu tepat? (open discussion)\n",
        "\n"
      ],
      "metadata": {
        "id": "pBNRt6Fqe_Yk"
      }
    },
    {
      "cell_type": "markdown",
      "source": [
        "## Tugas 5 (berkelompok)\n",
        "\n",
        "Coba buat dendogram, model clustering, visualisasi hasil clustering, dan rata-rata per cluster, tapi dengan ketentuan :    \n",
        "\n",
        "1.   Kelompok 1 : method/linkage='complete', affinity='manhattan' (jaraknya manhattan)\n",
        "2. Kelompok 2 : method/linkage='single', affinity='euclidean' (jaraknya euclidean)\n",
        "3. Kelompok 3 : method/linkage='average', affinity='euclidean' (jaraknya euclidean)\n",
        "4. Kelompok 4 : method/linkage='single', affinity='manhattan' (jaraknya manhattan)\n",
        "5. Kelompok 5 : method/linkage='average', affinity='manhattan' (jaraknya manhattan)\n",
        "\n",
        "Untuk n_cluster, coba disesuaikan dari melihat dendogram, tentukan berapa n_cluster yang menurutmu paling tepat. Bagaimana hasil clusteringmu dengan linkage dan jarak yang ditentukan diatas? Apakah menurutmu cukup bagus untuk data ini? (tidak ada salah/benar, yang penting paham)\n",
        "\n"
      ],
      "metadata": {
        "id": "NQSzOO2vnUMt"
      }
    },
    {
      "cell_type": "code",
      "source": [
        "#Type Your Code Here\n",
        "alg = AgglomerativeClustering(n_clusters=7, affinity='manhattan', linkage='single')\n",
        "alg.fit(X)\n",
        "labels_alg = alg.labels_\n",
        "labels_alg"
      ],
      "metadata": {
        "id": "dwMGPqab7Fyf",
        "colab": {
          "base_uri": "https://localhost:8080/"
        },
        "outputId": "b33b0e8c-b08b-40eb-f713-a409c8296aec"
      },
      "execution_count": 13,
      "outputs": [
        {
          "output_type": "execute_result",
          "data": {
            "text/plain": [
              "array([2, 2, 2, 2, 2, 2, 2, 2, 2, 2, 2, 2, 2, 2, 2, 2, 2, 2, 2, 2, 2, 2,\n",
              "       2, 2, 2, 2, 2, 2, 2, 2, 2, 2, 2, 2, 2, 2, 2, 2, 2, 2, 2, 2, 2, 2,\n",
              "       2, 2, 2, 2, 2, 2, 2, 2, 2, 2, 2, 2, 2, 2, 2, 2, 2, 2, 2, 2, 2, 2,\n",
              "       2, 2, 2, 2, 2, 2, 2, 2, 2, 2, 2, 2, 2, 2, 2, 2, 2, 2, 2, 2, 2, 2,\n",
              "       2, 2, 2, 2, 2, 2, 2, 2, 2, 2, 2, 2, 2, 2, 2, 2, 2, 2, 2, 2, 2, 2,\n",
              "       2, 2, 2, 2, 2, 2, 2, 2, 2, 2, 2, 2, 2, 0, 2, 0, 2, 0, 2, 0, 2, 0,\n",
              "       2, 0, 2, 0, 2, 0, 2, 0, 2, 0, 2, 0, 2, 0, 2, 0, 2, 0, 2, 0, 2, 0,\n",
              "       2, 0, 2, 0, 2, 0, 2, 0, 2, 0, 2, 0, 2, 0, 2, 0, 2, 0, 2, 0, 2, 0,\n",
              "       2, 0, 2, 0, 2, 0, 2, 0, 2, 0, 2, 0, 2, 0, 2, 0, 6, 0, 6, 5, 4, 5,\n",
              "       3, 1])"
            ]
          },
          "metadata": {},
          "execution_count": 13
        }
      ]
    },
    {
      "cell_type": "markdown",
      "source": [
        "# K-Means Clustering"
      ],
      "metadata": {
        "id": "inqw4Jr67InH"
      }
    },
    {
      "cell_type": "code",
      "source": [
        "!pip install -U yellowbrick"
      ],
      "metadata": {
        "id": "B81TqxVkBXbc",
        "colab": {
          "base_uri": "https://localhost:8080/"
        },
        "outputId": "7b37be7d-d858-4ec2-a463-4406cca1aebf"
      },
      "execution_count": 14,
      "outputs": [
        {
          "output_type": "stream",
          "name": "stdout",
          "text": [
            "Requirement already satisfied: yellowbrick in /usr/local/lib/python3.7/dist-packages (1.4)\n",
            "Requirement already satisfied: matplotlib!=3.0.0,>=2.0.2 in /usr/local/lib/python3.7/dist-packages (from yellowbrick) (3.2.2)\n",
            "Requirement already satisfied: numpy>=1.16.0 in /usr/local/lib/python3.7/dist-packages (from yellowbrick) (1.21.6)\n",
            "Requirement already satisfied: cycler>=0.10.0 in /usr/local/lib/python3.7/dist-packages (from yellowbrick) (0.11.0)\n",
            "Requirement already satisfied: scipy>=1.0.0 in /usr/local/lib/python3.7/dist-packages (from yellowbrick) (1.4.1)\n",
            "Requirement already satisfied: scikit-learn>=1.0.0 in /usr/local/lib/python3.7/dist-packages (from yellowbrick) (1.0.2)\n",
            "Requirement already satisfied: python-dateutil>=2.1 in /usr/local/lib/python3.7/dist-packages (from matplotlib!=3.0.0,>=2.0.2->yellowbrick) (2.8.2)\n",
            "Requirement already satisfied: pyparsing!=2.0.4,!=2.1.2,!=2.1.6,>=2.0.1 in /usr/local/lib/python3.7/dist-packages (from matplotlib!=3.0.0,>=2.0.2->yellowbrick) (3.0.8)\n",
            "Requirement already satisfied: kiwisolver>=1.0.1 in /usr/local/lib/python3.7/dist-packages (from matplotlib!=3.0.0,>=2.0.2->yellowbrick) (1.4.2)\n",
            "Requirement already satisfied: typing-extensions in /usr/local/lib/python3.7/dist-packages (from kiwisolver>=1.0.1->matplotlib!=3.0.0,>=2.0.2->yellowbrick) (4.2.0)\n",
            "Requirement already satisfied: six>=1.5 in /usr/local/lib/python3.7/dist-packages (from python-dateutil>=2.1->matplotlib!=3.0.0,>=2.0.2->yellowbrick) (1.15.0)\n",
            "Requirement already satisfied: threadpoolctl>=2.0.0 in /usr/local/lib/python3.7/dist-packages (from scikit-learn>=1.0.0->yellowbrick) (3.1.0)\n",
            "Requirement already satisfied: joblib>=0.11 in /usr/local/lib/python3.7/dist-packages (from scikit-learn>=1.0.0->yellowbrick) (1.1.0)\n"
          ]
        }
      ]
    },
    {
      "cell_type": "code",
      "source": [
        "# import libraries\n",
        "from sklearn.cluster import KMeans\n",
        "from yellowbrick.cluster import KElbowVisualizer"
      ],
      "metadata": {
        "id": "PDXmzbJhBbJq"
      },
      "execution_count": 15,
      "outputs": []
    },
    {
      "cell_type": "markdown",
      "source": [
        "## Tugas 1 :  Menggunakan metode elbow untuk menentukan jumlah cluster yang tepat\n",
        "\n",
        "Buat elbow dengan cara berikut :     \n",
        "\n",
        "![image.png](data:image/png;base64,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)"
      ],
      "metadata": {
        "id": "hQ39rj7D_V0e"
      }
    },
    {
      "cell_type": "code",
      "source": [
        "# create a kmeans model\n",
        "model_kmeans = KMeans(random_state=42)\n",
        "\n",
        "visualizer = KElbowVisualizer(model_kmeans, k=(2, 10))\n",
        "visualizer.fit(X)\n",
        "visualizer.show()"
      ],
      "metadata": {
        "id": "y80hygy-_Ur1",
        "colab": {
          "base_uri": "https://localhost:8080/",
          "height": 393
        },
        "outputId": "cafe02d4-085c-47bc-90bc-caf2ee4a35ee"
      },
      "execution_count": 16,
      "outputs": [
        {
          "output_type": "display_data",
          "data": {
            "text/plain": [
              "<Figure size 576x396 with 2 Axes>"
            ],
            "image/png": "[encoded data removed]"
          },
          "metadata": {}
        },
        {
          "output_type": "execute_result",
          "data": {
            "text/plain": [
              "<matplotlib.axes._subplots.AxesSubplot at 0x7f5cbceab9d0>"
            ]
          },
          "metadata": {},
          "execution_count": 16
        }
      ]
    },
    {
      "cell_type": "markdown",
      "source": [
        "Terlihat titik elbow yang tepat ada pada k=5"
      ],
      "metadata": {
        "id": "DuhDdYmOB2ux"
      }
    },
    {
      "cell_type": "markdown",
      "source": [
        "## Tugas 2 :    Buat model clustering\n",
        "\n",
        "![image.png](data:image/png;base64,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)"
      ],
      "metadata": {
        "id": "_ijkL7cODR_U"
      }
    },
    {
      "cell_type": "code",
      "source": [
        "#Gunakan k=5\n",
        "kmeans = KMeans(n_clusters=5, random_state=42)\n",
        "kmeans.fit(X)\n",
        "print(kmeans.cluster_centers_)    # centroid"
      ],
      "metadata": {
        "id": "AiL89o6X7MYj",
        "colab": {
          "base_uri": "https://localhost:8080/"
        },
        "outputId": "a5d8abda-cf80-443c-ff78-b9275dee298a"
      },
      "execution_count": 17,
      "outputs": [
        {
          "output_type": "stream",
          "name": "stdout",
          "text": [
            "[[-0.20091257 -0.02645617]\n",
            " [ 1.05500302 -1.28443907]\n",
            " [-1.30751869 -1.13696536]\n",
            " [-1.32954532  1.13217788]\n",
            " [ 0.99158305  1.23950275]]\n"
          ]
        }
      ]
    },
    {
      "cell_type": "markdown",
      "source": [
        "## Tugas 3 :   Visualisasi\n",
        "\n",
        "![image.png](data:image/png;base64,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)"
      ],
      "metadata": {
        "id": "ljG0APWNDl0g"
      }
    },
    {
      "cell_type": "code",
      "source": [
        "plt.scatter(X[labels_alg==0, 0], X[labels_alg==0, 1], s=50, marker=\"o\", color='black')\n",
        "plt.show()"
      ],
      "metadata": {
        "id": "iXp-myOo-BuQ",
        "colab": {
          "base_uri": "https://localhost:8080/",
          "height": 347
        },
        "outputId": "27632c58-fec0-4687-c8f2-7d084ce873fd"
      },
      "execution_count": 18,
      "outputs": [
        {
          "output_type": "display_data",
          "data": {
            "text/plain": [
              "<Figure size 576x396 with 1 Axes>"
            ],
            "image/png": "[encoded data removed]"
          },
          "metadata": {}
        }
      ]
    },
    {
      "cell_type": "markdown",
      "source": [
        "Disini terlihat model sudah cukup bagus, mari kita input ke data"
      ],
      "metadata": {
        "id": "v7cZY-1XD7zf"
      }
    },
    {
      "cell_type": "code",
      "source": [
        "label_kmeans = kmeans.labels_\n",
        "label_kmeans"
      ],
      "metadata": {
        "id": "kOqdLUn-_NeM",
        "colab": {
          "base_uri": "https://localhost:8080/"
        },
        "outputId": "ccd77737-a48b-441a-8d72-270bbb871219"
      },
      "execution_count": 19,
      "outputs": [
        {
          "output_type": "execute_result",
          "data": {
            "text/plain": [
              "array([2, 3, 2, 3, 2, 3, 2, 3, 2, 3, 2, 3, 2, 3, 2, 3, 2, 3, 2, 3, 2, 3,\n",
              "       2, 3, 2, 3, 2, 3, 2, 3, 2, 3, 2, 3, 2, 3, 2, 3, 2, 3, 2, 3, 2, 0,\n",
              "       2, 3, 0, 0, 0, 0, 0, 0, 0, 0, 0, 0, 0, 0, 0, 0, 0, 0, 0, 0, 0, 0,\n",
              "       0, 0, 0, 0, 0, 0, 0, 0, 0, 0, 0, 0, 0, 0, 0, 0, 0, 0, 0, 0, 0, 0,\n",
              "       0, 0, 0, 0, 0, 0, 0, 0, 0, 0, 0, 0, 0, 0, 0, 0, 0, 0, 0, 0, 0, 0,\n",
              "       0, 0, 0, 0, 0, 0, 0, 0, 0, 0, 0, 0, 0, 4, 1, 4, 0, 4, 1, 4, 1, 4,\n",
              "       0, 4, 1, 4, 1, 4, 1, 4, 1, 4, 0, 4, 1, 4, 1, 4, 1, 4, 1, 4, 1, 4,\n",
              "       1, 4, 1, 4, 1, 4, 1, 4, 1, 4, 1, 4, 1, 4, 1, 4, 1, 4, 1, 4, 1, 4,\n",
              "       1, 4, 1, 4, 1, 4, 1, 4, 1, 4, 1, 4, 1, 4, 1, 4, 1, 4, 1, 4, 1, 4,\n",
              "       1, 4], dtype=int32)"
            ]
          },
          "metadata": {},
          "execution_count": 19
        }
      ]
    },
    {
      "cell_type": "code",
      "source": [
        "data['cluster_kmeans'] = label_kmeans\n",
        "data"
      ],
      "metadata": {
        "id": "bd4VAxM0EeGp",
        "colab": {
          "base_uri": "https://localhost:8080/",
          "height": 455
        },
        "outputId": "f3691858-f4f6-4ce8-ddc8-9572136a8497"
      },
      "execution_count": 20,
      "outputs": [
        {
          "output_type": "execute_result",
          "data": {
            "text/plain": [
              "             Genre  Age  Annual Income (k$)  Spending Score (1-100)  \\\n",
              "CustomerID                                                            \n",
              "1             Male   19                  15                      39   \n",
              "2             Male   21                  15                      81   \n",
              "3           Female   20                  16                       6   \n",
              "4           Female   23                  16                      77   \n",
              "5           Female   31                  17                      40   \n",
              "...            ...  ...                 ...                     ...   \n",
              "196         Female   35                 120                      79   \n",
              "197         Female   45                 126                      28   \n",
              "198           Male   32                 126                      74   \n",
              "199           Male   32                 137                      18   \n",
              "200           Male   30                 137                      83   \n",
              "\n",
              "            cluster_agglo  cluster_kmeans  \n",
              "CustomerID                                 \n",
              "1                       1               2  \n",
              "2                       3               3  \n",
              "3                       1               2  \n",
              "4                       3               3  \n",
              "5                       1               2  \n",
              "...                   ...             ...  \n",
              "196                     5               4  \n",
              "197                     6               1  \n",
              "198                     5               4  \n",
              "199                     6               1  \n",
              "200                     5               4  \n",
              "\n",
              "[200 rows x 6 columns]"
            ],
            "text/html": [
              "\n",
              "  <div id=\"df-8a711cf5-e8f9-4852-a516-411a21ff613e\">\n",
              "    <div class=\"colab-df-container\">\n",
              "      <div>\n",
              "<style scoped>\n",
              "    .dataframe tbody tr th:only-of-type {\n",
              "        vertical-align: middle;\n",
              "    }\n",
              "\n",
              "    .dataframe tbody tr th {\n",
              "        vertical-align: top;\n",
              "    }\n",
              "\n",
              "    .dataframe thead th {\n",
              "        text-align: right;\n",
              "    }\n",
              "</style>\n",
              "<table border=\"1\" class=\"dataframe\">\n",
              "  <thead>\n",
              "    <tr style=\"text-align: right;\">\n",
              "      <th></th>\n",
              "      <th>Genre</th>\n",
              "      <th>Age</th>\n",
              "      <th>Annual Income (k$)</th>\n",
              "      <th>Spending Score (1-100)</th>\n",
              "      <th>cluster_agglo</th>\n",
              "      <th>cluster_kmeans</th>\n",
              "    </tr>\n",
              "    <tr>\n",
              "      <th>CustomerID</th>\n",
              "      <th></th>\n",
              "      <th></th>\n",
              "      <th></th>\n",
              "      <th></th>\n",
              "      <th></th>\n",
              "      <th></th>\n",
              "    </tr>\n",
              "  </thead>\n",
              "  <tbody>\n",
              "    <tr>\n",
              "      <th>1</th>\n",
              "      <td>Male</td>\n",
              "      <td>19</td>\n",
              "      <td>15</td>\n",
              "      <td>39</td>\n",
              "      <td>1</td>\n",
              "      <td>2</td>\n",
              "    </tr>\n",
              "    <tr>\n",
              "      <th>2</th>\n",
              "      <td>Male</td>\n",
              "      <td>21</td>\n",
              "      <td>15</td>\n",
              "      <td>81</td>\n",
              "      <td>3</td>\n",
              "      <td>3</td>\n",
              "    </tr>\n",
              "    <tr>\n",
              "      <th>3</th>\n",
              "      <td>Female</td>\n",
              "      <td>20</td>\n",
              "      <td>16</td>\n",
              "      <td>6</td>\n",
              "      <td>1</td>\n",
              "      <td>2</td>\n",
              "    </tr>\n",
              "    <tr>\n",
              "      <th>4</th>\n",
              "      <td>Female</td>\n",
              "      <td>23</td>\n",
              "      <td>16</td>\n",
              "      <td>77</td>\n",
              "      <td>3</td>\n",
              "      <td>3</td>\n",
              "    </tr>\n",
              "    <tr>\n",
              "      <th>5</th>\n",
              "      <td>Female</td>\n",
              "      <td>31</td>\n",
              "      <td>17</td>\n",
              "      <td>40</td>\n",
              "      <td>1</td>\n",
              "      <td>2</td>\n",
              "    </tr>\n",
              "    <tr>\n",
              "      <th>...</th>\n",
              "      <td>...</td>\n",
              "      <td>...</td>\n",
              "      <td>...</td>\n",
              "      <td>...</td>\n",
              "      <td>...</td>\n",
              "      <td>...</td>\n",
              "    </tr>\n",
              "    <tr>\n",
              "      <th>196</th>\n",
              "      <td>Female</td>\n",
              "      <td>35</td>\n",
              "      <td>120</td>\n",
              "      <td>79</td>\n",
              "      <td>5</td>\n",
              "      <td>4</td>\n",
              "    </tr>\n",
              "    <tr>\n",
              "      <th>197</th>\n",
              "      <td>Female</td>\n",
              "      <td>45</td>\n",
              "      <td>126</td>\n",
              "      <td>28</td>\n",
              "      <td>6</td>\n",
              "      <td>1</td>\n",
              "    </tr>\n",
              "    <tr>\n",
              "      <th>198</th>\n",
              "      <td>Male</td>\n",
              "      <td>32</td>\n",
              "      <td>126</td>\n",
              "      <td>74</td>\n",
              "      <td>5</td>\n",
              "      <td>4</td>\n",
              "    </tr>\n",
              "    <tr>\n",
              "      <th>199</th>\n",
              "      <td>Male</td>\n",
              "      <td>32</td>\n",
              "      <td>137</td>\n",
              "      <td>18</td>\n",
              "      <td>6</td>\n",
              "      <td>1</td>\n",
              "    </tr>\n",
              "    <tr>\n",
              "      <th>200</th>\n",
              "      <td>Male</td>\n",
              "      <td>30</td>\n",
              "      <td>137</td>\n",
              "      <td>83</td>\n",
              "      <td>5</td>\n",
              "      <td>4</td>\n",
              "    </tr>\n",
              "  </tbody>\n",
              "</table>\n",
              "<p>200 rows × 6 columns</p>\n",
              "</div>\n",
              "      <button class=\"colab-df-convert\" onclick=\"convertToInteractive('df-8a711cf5-e8f9-4852-a516-411a21ff613e')\"\n",
              "              title=\"Convert this dataframe to an interactive table.\"\n",
              "              style=\"display:none;\">\n",
              "        \n",
              "  <svg xmlns=\"http://www.w3.org/2000/svg\" height=\"24px\"viewBox=\"0 0 24 24\"\n",
              "       width=\"24px\">\n",
              "    <path d=\"M0 0h24v24H0V0z\" fill=\"none\"/>\n",
              "    <path d=\"M18.56 5.44l.94 2.06.94-2.06 2.06-.94-2.06-.94-.94-2.06-.94 2.06-2.06.94zm-11 1L8.5 8.5l.94-2.06 2.06-.94-2.06-.94L8.5 2.5l-.94 2.06-2.06.94zm10 10l.94 2.06.94-2.06 2.06-.94-2.06-.94-.94-2.06-.94 2.06-2.06.94z\"/><path d=\"M17.41 7.96l-1.37-1.37c-.4-.4-.92-.59-1.43-.59-.52 0-1.04.2-1.43.59L10.3 9.45l-7.72 7.72c-.78.78-.78 2.05 0 2.83L4 21.41c.39.39.9.59 1.41.59.51 0 1.02-.2 1.41-.59l7.78-7.78 2.81-2.81c.8-.78.8-2.07 0-2.86zM5.41 20L4 18.59l7.72-7.72 1.47 1.35L5.41 20z\"/>\n",
              "  </svg>\n",
              "      </button>\n",
              "      \n",
              "  <style>\n",
              "    .colab-df-container {\n",
              "      display:flex;\n",
              "      flex-wrap:wrap;\n",
              "      gap: 12px;\n",
              "    }\n",
              "\n",
              "    .colab-df-convert {\n",
              "      background-color: #E8F0FE;\n",
              "      border: none;\n",
              "      border-radius: 50%;\n",
              "      cursor: pointer;\n",
              "      display: none;\n",
              "      fill: #1967D2;\n",
              "      height: 32px;\n",
              "      padding: 0 0 0 0;\n",
              "      width: 32px;\n",
              "    }\n",
              "\n",
              "    .colab-df-convert:hover {\n",
              "      background-color: #E2EBFA;\n",
              "      box-shadow: 0px 1px 2px rgba(60, 64, 67, 0.3), 0px 1px 3px 1px rgba(60, 64, 67, 0.15);\n",
              "      fill: #174EA6;\n",
              "    }\n",
              "\n",
              "    [theme=dark] .colab-df-convert {\n",
              "      background-color: #3B4455;\n",
              "      fill: #D2E3FC;\n",
              "    }\n",
              "\n",
              "    [theme=dark] .colab-df-convert:hover {\n",
              "      background-color: #434B5C;\n",
              "      box-shadow: 0px 1px 3px 1px rgba(0, 0, 0, 0.15);\n",
              "      filter: drop-shadow(0px 1px 2px rgba(0, 0, 0, 0.3));\n",
              "      fill: #FFFFFF;\n",
              "    }\n",
              "  </style>\n",
              "\n",
              "      <script>\n",
              "        const buttonEl =\n",
              "          document.querySelector('#df-8a711cf5-e8f9-4852-a516-411a21ff613e button.colab-df-convert');\n",
              "        buttonEl.style.display =\n",
              "          google.colab.kernel.accessAllowed ? 'block' : 'none';\n",
              "\n",
              "        async function convertToInteractive(key) {\n",
              "          const element = document.querySelector('#df-8a711cf5-e8f9-4852-a516-411a21ff613e');\n",
              "          const dataTable =\n",
              "            await google.colab.kernel.invokeFunction('convertToInteractive',\n",
              "                                                     [key], {});\n",
              "          if (!dataTable) return;\n",
              "\n",
              "          const docLinkHtml = 'Like what you see? Visit the ' +\n",
              "            '<a target=\"_blank\" href=https://colab.research.google.com/notebooks/data_table.ipynb>data table notebook</a>'\n",
              "            + ' to learn more about interactive tables.';\n",
              "          element.innerHTML = '';\n",
              "          dataTable['output_type'] = 'display_data';\n",
              "          await google.colab.output.renderOutput(dataTable, element);\n",
              "          const docLink = document.createElement('div');\n",
              "          docLink.innerHTML = docLinkHtml;\n",
              "          element.appendChild(docLink);\n",
              "        }\n",
              "      </script>\n",
              "    </div>\n",
              "  </div>\n",
              "  "
            ]
          },
          "metadata": {},
          "execution_count": 20
        }
      ]
    },
    {
      "cell_type": "markdown",
      "source": [
        "Jika hasil dari kmeans juga bagus, lalu yang manakah yang lebih baik kita gunakan? Agglomerative dengan 7 clusters atau KMeans dengan 5 clusters? Mari kita uji dengan silhouette score. Hasil clustering dengan nilai paling mendekati 1 adalah yang terbaik"
      ],
      "metadata": {
        "id": "BtgK_sCDHw7u"
      }
    },
    {
      "cell_type": "markdown",
      "source": [
        "## Evaluasi silhouette score"
      ],
      "metadata": {
        "id": "2BiUEEw6GFEq"
      }
    },
    {
      "cell_type": "code",
      "source": [
        "ss_agglo = silhouette_score(X, labels_agglo, metric='euclidean')\n",
        "ss_kmeans = silhouette_score(X, label_kmeans, metric='euclidean')\n",
        "\n",
        "print('nilai silhouette score untuk Agglomerative Clustering = ', ss_agglo)\n",
        "print('nilai silhouette score untuk Kmeans Clustering = ', ss_kmeans)"
      ],
      "metadata": {
        "id": "Iqyt86I8E7oU",
        "colab": {
          "base_uri": "https://localhost:8080/"
        },
        "outputId": "f77427d9-429c-405d-cb14-c81a848c3a42"
      },
      "execution_count": 21,
      "outputs": [
        {
          "output_type": "stream",
          "name": "stdout",
          "text": [
            "nilai silhouette score untuk Agglomerative Clustering =  0.5314268013240602\n",
            "nilai silhouette score untuk Kmeans Clustering =  0.5546571631111091\n"
          ]
        }
      ]
    },
    {
      "cell_type": "markdown",
      "source": [
        "Ternyata untuk kasus ini clustering dengan K-Means lebih baik"
      ],
      "metadata": {
        "id": "SUvt3s4TKK7g"
      }
    },
    {
      "cell_type": "markdown",
      "source": [
        "## Tugas 4 (berkelompok):   \n",
        "\n",
        "1. Hitung silhouette score untuk model agglomerative clustering tiap kelompok, bandingkan dengan kmeans, manakah yang lebih baik?\n",
        "2. Cari rata-rata income dan pengeluaran per cluster kmeans\n",
        "3. Buat interpretasinya"
      ],
      "metadata": {
        "id": "dHA-rwe1Fnjr"
      }
    },
    {
      "cell_type": "code",
      "source": [
        ""
      ],
      "metadata": {
        "id": "DiqK01P3Hgi_"
      },
      "execution_count": 21,
      "outputs": []
    }
  ]
}